{
 "cells": [
  {
   "cell_type": "code",
   "execution_count": 1,
   "metadata": {},
   "outputs": [
    {
     "ename": "NameError",
     "evalue": "name 'sc' is not defined",
     "output_type": "error",
     "traceback": [
      "\u001b[0;31m---------------------------------------------------------------------------\u001b[0m",
      "\u001b[0;31mNameError\u001b[0m                                 Traceback (most recent call last)",
      "Cell \u001b[0;32mIn [1], line 1\u001b[0m\n\u001b[0;32m----> 1\u001b[0m sc\u001b[39m.\u001b[39mstop()\n",
      "\u001b[0;31mNameError\u001b[0m: name 'sc' is not defined"
     ]
    }
   ],
   "source": [
    "# sc.stop()"
   ]
  },
  {
   "cell_type": "code",
   "execution_count": 2,
   "metadata": {},
   "outputs": [
    {
     "name": "stdout",
     "output_type": "stream",
     "text": [
      "22/10/19 12:20:38 WARN Utils: Your hostname, AMRIT resolves to a loopback address: 127.0.1.1; using 172.26.54.250 instead (on interface eth0)\n",
      "22/10/19 12:20:38 WARN Utils: Set SPARK_LOCAL_IP if you need to bind to another address\n"
     ]
    },
    {
     "name": "stderr",
     "output_type": "stream",
     "text": [
      "Setting default log level to \"WARN\".\n",
      "To adjust logging level use sc.setLogLevel(newLevel). For SparkR, use setLogLevel(newLevel).\n"
     ]
    },
    {
     "name": "stdout",
     "output_type": "stream",
     "text": [
      "22/10/19 12:20:39 WARN NativeCodeLoader: Unable to load native-hadoop library for your platform... using builtin-java classes where applicable\n"
     ]
    }
   ],
   "source": [
    "from pyspark import SparkContext, SparkConf\n",
    "\n",
    "if not 'sc' in globals(): # This 'trick' makes sure the SparkContext sc is initialized exactly once\n",
    "    conf = SparkConf().setMaster('local[*]')  # Spark will use all cores (*) available\n",
    "    sc = SparkContext(conf=conf) # Initialize SparkContext sc with the above configuration conf \n",
    "\n",
    "from pyspark.sql import SparkSession\n",
    "spark = SparkSession.builder.getOrCreate()"
   ]
  },
  {
   "cell_type": "markdown",
   "metadata": {},
   "source": [
    "### Create SparkDataframe using Schema and Data . Also print the schema and dataframe"
   ]
  },
  {
   "cell_type": "code",
   "execution_count": null,
   "metadata": {},
   "outputs": [
    {
     "name": "stderr",
     "output_type": "stream",
     "text": [
      "                                                                                \r"
     ]
    },
    {
     "name": "stdout",
     "output_type": "stream",
     "text": [
      "+---+------+---+\n",
      "| id|  name|age|\n",
      "+---+------+---+\n",
      "|  1|  John| 19|\n",
      "|  2| Smith| 29|\n",
      "|  3|  Adam| 35|\n",
      "|  4| Henry| 50|\n",
      "|  5|  Mike| 78|\n",
      "|  6|  Mary| 19|\n",
      "|  7| Peter| 29|\n",
      "|  8|  Cora| 35|\n",
      "|  9| Nancy| 50|\n",
      "| 10|Daniel| 78|\n",
      "+---+------+---+\n",
      "\n",
      "root\n",
      " |-- id: integer (nullable = true)\n",
      " |-- name: string (nullable = true)\n",
      " |-- age: integer (nullable = true)\n",
      "\n"
     ]
    }
   ],
   "source": [
    "\n",
    "from pyspark.sql import SparkSession\n",
    "spark = SparkSession.builder.getOrCreate() # getOrCreate() will return an existing SparkSession if there is one, or create a new one if there is none.\n",
    "\n",
    "\n",
    "# define schema using DDl\n",
    "schema = \"id INT, name STRING, age INT\"\n",
    "\n",
    "data= [(1, \"John\", 19), (2, \"Smith\", 29), (3, \"Adam\", 35), (4, \"Henry\", 50), (5, \"Mike\", 78), (6, \"Mary\", 19), (7, \"Peter\", 29), (8, \"Cora\", 35), (9, \"Nancy\", 50), (10, \"Daniel\", 78)]\n",
    "\n",
    "# create dataframe from data and schema\n",
    "df = spark.createDataFrame(data, schema) # createDataFrame(data, schema=None, samplingRatio=None, verifySchema=True)  \n",
    "\n",
    "\n",
    "df.show()\n",
    "\n",
    "df.printSchema()"
   ]
  },
  {
   "cell_type": "code",
   "execution_count": 4,
   "metadata": {},
   "outputs": [
    {
     "data": {
      "text/plain": [
       "StructType([StructField('id', IntegerType(), True), StructField('name', StringType(), True), StructField('age', IntegerType(), True)])"
      ]
     },
     "execution_count": 4,
     "metadata": {},
     "output_type": "execute_result"
    }
   ],
   "source": [
    "df.schema # schema of the dataframe that can be used elsewhere"
   ]
  },
  {
   "cell_type": "code",
   "execution_count": 5,
   "metadata": {},
   "outputs": [
    {
     "name": "stdout",
     "output_type": "stream",
     "text": [
      "+------+\n",
      "|  name|\n",
      "+------+\n",
      "|  John|\n",
      "| Smith|\n",
      "|  Adam|\n",
      "| Henry|\n",
      "|  Mike|\n",
      "|  Mary|\n",
      "| Peter|\n",
      "|  Cora|\n",
      "| Nancy|\n",
      "|Daniel|\n",
      "+------+\n",
      "\n"
     ]
    }
   ],
   "source": [
    "# acess only specific column\n",
    "df.select(\"name\").show()"
   ]
  },
  {
   "cell_type": "code",
   "execution_count": 6,
   "metadata": {},
   "outputs": [
    {
     "name": "stdout",
     "output_type": "stream",
     "text": [
      "+---+------+---+\n",
      "| id|  name|age|\n",
      "+---+------+---+\n",
      "|  3|  Adam| 35|\n",
      "|  4| Henry| 50|\n",
      "|  5|  Mike| 78|\n",
      "|  8|  Cora| 35|\n",
      "|  9| Nancy| 50|\n",
      "| 10|Daniel| 78|\n",
      "+---+------+---+\n",
      "\n"
     ]
    }
   ],
   "source": [
    "# access column with conditions\n",
    "df.filter(df.age > 30).show()"
   ]
  },
  {
   "cell_type": "markdown",
   "metadata": {},
   "source": [
    "## End to end Example"
   ]
  },
  {
   "cell_type": "code",
   "execution_count": 7,
   "metadata": {},
   "outputs": [
    {
     "name": "stdout",
     "output_type": "stream",
     "text": [
      "+--------------------+-------------------+-----+\n",
      "|   DEST_COUNTRY_NAME|ORIGIN_COUNTRY_NAME|count|\n",
      "+--------------------+-------------------+-----+\n",
      "|       United States|            Romania|   15|\n",
      "|       United States|            Croatia|    1|\n",
      "|       United States|            Ireland|  344|\n",
      "|               Egypt|      United States|   15|\n",
      "|       United States|              India|   62|\n",
      "|       United States|          Singapore|    1|\n",
      "|       United States|            Grenada|   62|\n",
      "|          Costa Rica|      United States|  588|\n",
      "|             Senegal|      United States|   40|\n",
      "|             Moldova|      United States|    1|\n",
      "|       United States|       Sint Maarten|  325|\n",
      "|       United States|   Marshall Islands|   39|\n",
      "|              Guyana|      United States|   64|\n",
      "|               Malta|      United States|    1|\n",
      "|            Anguilla|      United States|   41|\n",
      "|             Bolivia|      United States|   30|\n",
      "|       United States|           Paraguay|    6|\n",
      "|             Algeria|      United States|    4|\n",
      "|Turks and Caicos ...|      United States|  230|\n",
      "|       United States|          Gibraltar|    1|\n",
      "+--------------------+-------------------+-----+\n",
      "only showing top 20 rows\n",
      "\n"
     ]
    },
    {
     "data": {
      "text/plain": [
       "StructType([StructField('DEST_COUNTRY_NAME', StringType(), True), StructField('ORIGIN_COUNTRY_NAME', StringType(), True), StructField('count', IntegerType(), True)])"
      ]
     },
     "execution_count": 7,
     "metadata": {},
     "output_type": "execute_result"
    }
   ],
   "source": [
    "\n",
    "\n",
    "flightData2015 = spark.read.csv(\"Data/2015-summary.csv\", header=True, inferSchema=True) # use schema inference to create dataframe i.e sample some data and infer schema from it\n",
    "\n",
    "flightData2015.show()\n",
    "flightData2015.schema"
   ]
  },
  {
   "cell_type": "code",
   "execution_count": 8,
   "metadata": {},
   "outputs": [
    {
     "data": {
      "text/plain": [
       "[Row(DEST_COUNTRY_NAME='United States', ORIGIN_COUNTRY_NAME='Romania', count=15),\n",
       " Row(DEST_COUNTRY_NAME='United States', ORIGIN_COUNTRY_NAME='Croatia', count=1),\n",
       " Row(DEST_COUNTRY_NAME='United States', ORIGIN_COUNTRY_NAME='Ireland', count=344)]"
      ]
     },
     "execution_count": 8,
     "metadata": {},
     "output_type": "execute_result"
    }
   ],
   "source": [
    "flightData2015.take(3) "
   ]
  },
  {
   "cell_type": "code",
   "execution_count": 9,
   "metadata": {},
   "outputs": [
    {
     "name": "stdout",
     "output_type": "stream",
     "text": [
      "== Physical Plan ==\n",
      "AdaptiveSparkPlan isFinalPlan=false\n",
      "+- Sort [count#57 ASC NULLS FIRST], true, 0\n",
      "   +- Exchange rangepartitioning(count#57 ASC NULLS FIRST, 200), ENSURE_REQUIREMENTS, [id=#85]\n",
      "      +- FileScan csv [DEST_COUNTRY_NAME#55,ORIGIN_COUNTRY_NAME#56,count#57] Batched: false, DataFilters: [], Format: CSV, Location: InMemoryFileIndex(1 paths)[file:/home/amrit/Apache_Spark_Fuse/Data/2015-summary.csv], PartitionFilters: [], PushedFilters: [], ReadSchema: struct<DEST_COUNTRY_NAME:string,ORIGIN_COUNTRY_NAME:string,count:int>\n",
      "\n",
      "\n"
     ]
    }
   ],
   "source": [
    "flightData2015.sort(\"count\").explain() # explain() will show the execution plan of the query"
   ]
  },
  {
   "cell_type": "code",
   "execution_count": 10,
   "metadata": {},
   "outputs": [
    {
     "data": {
      "text/plain": [
       "256"
      ]
     },
     "execution_count": 10,
     "metadata": {},
     "output_type": "execute_result"
    }
   ],
   "source": [
    "flightData2015.sort(\"count\").count() # count() will return the number of rows in the dataframe"
   ]
  },
  {
   "cell_type": "code",
   "execution_count": 11,
   "metadata": {},
   "outputs": [
    {
     "data": {
      "text/plain": [
       "[Row(DEST_COUNTRY_NAME='United States', ORIGIN_COUNTRY_NAME='Singapore', count=1),\n",
       " Row(DEST_COUNTRY_NAME='Moldova', ORIGIN_COUNTRY_NAME='United States', count=1)]"
      ]
     },
     "execution_count": 11,
     "metadata": {},
     "output_type": "execute_result"
    }
   ],
   "source": [
    "spark.conf.set(\"spark.sql.shuffle.partitions\", \"12\")\n",
    "flightData2015.sort(\"count\").take(2)"
   ]
  },
  {
   "cell_type": "code",
   "execution_count": 12,
   "metadata": {},
   "outputs": [],
   "source": [
    "# dataframe to table view\n",
    "flightData2015.createOrReplaceTempView(\"flight_data_2015\")"
   ]
  },
  {
   "cell_type": "code",
   "execution_count": 13,
   "metadata": {},
   "outputs": [
    {
     "name": "stdout",
     "output_type": "stream",
     "text": [
      "== Physical Plan ==\n",
      "AdaptiveSparkPlan isFinalPlan=false\n",
      "+- HashAggregate(keys=[DEST_COUNTRY_NAME#55], functions=[count(1)])\n",
      "   +- Exchange hashpartitioning(DEST_COUNTRY_NAME#55, 12), ENSURE_REQUIREMENTS, [id=#137]\n",
      "      +- HashAggregate(keys=[DEST_COUNTRY_NAME#55], functions=[partial_count(1)])\n",
      "         +- FileScan csv [DEST_COUNTRY_NAME#55] Batched: false, DataFilters: [], Format: CSV, Location: InMemoryFileIndex(1 paths)[file:/home/amrit/Apache_Spark_Fuse/Data/2015-summary.csv], PartitionFilters: [], PushedFilters: [], ReadSchema: struct<DEST_COUNTRY_NAME:string>\n",
      "\n",
      "\n",
      "== Physical Plan ==\n",
      "AdaptiveSparkPlan isFinalPlan=false\n",
      "+- HashAggregate(keys=[DEST_COUNTRY_NAME#55], functions=[count(1)])\n",
      "   +- Exchange hashpartitioning(DEST_COUNTRY_NAME#55, 12), ENSURE_REQUIREMENTS, [id=#150]\n",
      "      +- HashAggregate(keys=[DEST_COUNTRY_NAME#55], functions=[partial_count(1)])\n",
      "         +- FileScan csv [DEST_COUNTRY_NAME#55] Batched: false, DataFilters: [], Format: CSV, Location: InMemoryFileIndex(1 paths)[file:/home/amrit/Apache_Spark_Fuse/Data/2015-summary.csv], PartitionFilters: [], PushedFilters: [], ReadSchema: struct<DEST_COUNTRY_NAME:string>\n",
      "\n",
      "\n"
     ]
    }
   ],
   "source": [
    "sqlWay = spark.sql(\"\"\"\n",
    "SELECT DEST_COUNTRY_NAME, count(1)\n",
    "FROM flight_data_2015\n",
    "GROUP BY DEST_COUNTRY_NAME\n",
    "\"\"\")\n",
    "\n",
    "dataFrameWay = flightData2015\\\n",
    ".groupBy(\"DEST_COUNTRY_NAME\")\\\n",
    ".count()\n",
    "\n",
    "sqlWay.explain()\n",
    "dataFrameWay.explain()"
   ]
  },
  {
   "cell_type": "code",
   "execution_count": 14,
   "metadata": {},
   "outputs": [
    {
     "data": {
      "text/plain": [
       "[Row(max(count)=370002)]"
      ]
     },
     "execution_count": 14,
     "metadata": {},
     "output_type": "execute_result"
    }
   ],
   "source": [
    "from pyspark.sql.functions import max\n",
    "flightData2015.select(max(\"count\")).take(1)"
   ]
  },
  {
   "cell_type": "code",
   "execution_count": 15,
   "metadata": {},
   "outputs": [
    {
     "name": "stdout",
     "output_type": "stream",
     "text": [
      "+-----------------+-----------------+\n",
      "|DEST_COUNTRY_NAME|destination_total|\n",
      "+-----------------+-----------------+\n",
      "|    United States|           411352|\n",
      "|           Canada|             8399|\n",
      "|           Mexico|             7140|\n",
      "|   United Kingdom|             2025|\n",
      "|            Japan|             1548|\n",
      "+-----------------+-----------------+\n",
      "\n"
     ]
    }
   ],
   "source": [
    "maxSql = spark.sql(\"\"\"\n",
    "SELECT DEST_COUNTRY_NAME, sum(count) as destination_total\n",
    "FROM flight_data_2015\n",
    "GROUP BY DEST_COUNTRY_NAME\n",
    "ORDER BY sum(count) DESC\n",
    "LIMIT 5\n",
    "\"\"\")\n",
    "maxSql.show()"
   ]
  },
  {
   "cell_type": "code",
   "execution_count": 16,
   "metadata": {},
   "outputs": [
    {
     "name": "stdout",
     "output_type": "stream",
     "text": [
      "+-----------------+-----------------+\n",
      "|DEST_COUNTRY_NAME|destination_total|\n",
      "+-----------------+-----------------+\n",
      "|    United States|           411352|\n",
      "|           Canada|             8399|\n",
      "|           Mexico|             7140|\n",
      "|   United Kingdom|             2025|\n",
      "|            Japan|             1548|\n",
      "+-----------------+-----------------+\n",
      "\n"
     ]
    }
   ],
   "source": [
    "# in Python we can use the same syntax as in SQL\n",
    "from pyspark.sql.functions import desc\n",
    "flightData2015\\\n",
    ".groupBy(\"DEST_COUNTRY_NAME\")\\\n",
    ".sum(\"count\")\\\n",
    ".withColumnRenamed(\"sum(count)\", \"destination_total\")\\\n",
    ".sort(desc(\"destination_total\"))\\\n",
    ".limit(5)\\\n",
    ".show()"
   ]
  },
  {
   "cell_type": "code",
   "execution_count": 17,
   "metadata": {},
   "outputs": [
    {
     "name": "stdout",
     "output_type": "stream",
     "text": [
      "== Physical Plan ==\n",
      "AdaptiveSparkPlan isFinalPlan=false\n",
      "+- TakeOrderedAndProject(limit=5, orderBy=[destination_total#167L DESC NULLS LAST], output=[DEST_COUNTRY_NAME#55,destination_total#167L])\n",
      "   +- HashAggregate(keys=[DEST_COUNTRY_NAME#55], functions=[sum(count#57)])\n",
      "      +- Exchange hashpartitioning(DEST_COUNTRY_NAME#55, 12), ENSURE_REQUIREMENTS, [id=#318]\n",
      "         +- HashAggregate(keys=[DEST_COUNTRY_NAME#55], functions=[partial_sum(count#57)])\n",
      "            +- FileScan csv [DEST_COUNTRY_NAME#55,count#57] Batched: false, DataFilters: [], Format: CSV, Location: InMemoryFileIndex(1 paths)[file:/home/amrit/Apache_Spark_Fuse/Data/2015-summary.csv], PartitionFilters: [], PushedFilters: [], ReadSchema: struct<DEST_COUNTRY_NAME:string,count:int>\n",
      "\n",
      "\n"
     ]
    }
   ],
   "source": [
    "# explan plan\n",
    "flightData2015\\\n",
    ".groupBy(\"DEST_COUNTRY_NAME\")\\\n",
    ".sum(\"count\")\\\n",
    ".withColumnRenamed(\"sum(count)\", \"destination_total\")\\\n",
    ".sort(desc(\"destination_total\"))\\\n",
    ".limit(5)\\\n",
    ".explain()"
   ]
  },
  {
   "cell_type": "code",
   "execution_count": 21,
   "metadata": {},
   "outputs": [
    {
     "name": "stderr",
     "output_type": "stream",
     "text": [
      "                                                                                \r"
     ]
    },
    {
     "data": {
      "text/plain": [
       "[Row(sum(id)=2500000000000)]"
      ]
     },
     "execution_count": 21,
     "metadata": {},
     "output_type": "execute_result"
    }
   ],
   "source": [
    "df1 = spark.range(2, 10000000, 2)\n",
    "df2 = spark.range(2, 10000000, 4)\n",
    "step1 = df1.repartition(5)\n",
    "step12 = df2.repartition(6)\n",
    "step2 = step1.selectExpr(\"id * 5 as id\")\n",
    "step3 = step2.join(step12, [\"id\"]) \n",
    "\n",
    "\n",
    "step4 = step3.selectExpr(\"sum(id)\")\n",
    "step4.collect() # 2500000000000"
   ]
  },
  {
   "cell_type": "code",
   "execution_count": 19,
   "metadata": {},
   "outputs": [
    {
     "name": "stdout",
     "output_type": "stream",
     "text": [
      "== Physical Plan ==\n",
      "AdaptiveSparkPlan isFinalPlan=true\n",
      "+- == Final Plan ==\n",
      "   *(7) HashAggregate(keys=[], functions=[sum(id#180L)])\n",
      "   +- ShuffleQueryStage 4\n",
      "      +- Exchange SinglePartition, ENSURE_REQUIREMENTS, [id=#585]\n",
      "         +- *(6) HashAggregate(keys=[], functions=[partial_sum(id#180L)])\n",
      "            +- *(6) Project [id#180L]\n",
      "               +- *(6) SortMergeJoin [id#180L], [id#174L], Inner\n",
      "                  :- *(4) Sort [id#180L ASC NULLS FIRST], false, 0\n",
      "                  :  +- AQEShuffleRead coalesced\n",
      "                  :     +- ShuffleQueryStage 2\n",
      "                  :        +- Exchange hashpartitioning(id#180L, 12), ENSURE_REQUIREMENTS, [id=#456]\n",
      "                  :           +- *(3) Project [(id#172L * 5) AS id#180L]\n",
      "                  :              +- ShuffleQueryStage 0\n",
      "                  :                 +- Exchange RoundRobinPartitioning(5), REPARTITION_BY_NUM, [id=#389]\n",
      "                  :                    +- *(1) Range (2, 10000000, step=2, splits=6)\n",
      "                  +- *(5) Sort [id#174L ASC NULLS FIRST], false, 0\n",
      "                     +- AQEShuffleRead coalesced\n",
      "                        +- ShuffleQueryStage 3\n",
      "                           +- Exchange hashpartitioning(id#174L, 12), ENSURE_REQUIREMENTS, [id=#401]\n",
      "                              +- ShuffleQueryStage 1\n",
      "                                 +- Exchange RoundRobinPartitioning(6), REPARTITION_BY_NUM, [id=#397]\n",
      "                                    +- *(2) Range (2, 10000000, step=4, splits=6)\n",
      "+- == Initial Plan ==\n",
      "   HashAggregate(keys=[], functions=[sum(id#180L)])\n",
      "   +- Exchange SinglePartition, ENSURE_REQUIREMENTS, [id=#365]\n",
      "      +- HashAggregate(keys=[], functions=[partial_sum(id#180L)])\n",
      "         +- Project [id#180L]\n",
      "            +- SortMergeJoin [id#180L], [id#174L], Inner\n",
      "               :- Sort [id#180L ASC NULLS FIRST], false, 0\n",
      "               :  +- Exchange hashpartitioning(id#180L, 12), ENSURE_REQUIREMENTS, [id=#357]\n",
      "               :     +- Project [(id#172L * 5) AS id#180L]\n",
      "               :        +- Exchange RoundRobinPartitioning(5), REPARTITION_BY_NUM, [id=#347]\n",
      "               :           +- Range (2, 10000000, step=2, splits=6)\n",
      "               +- Sort [id#174L ASC NULLS FIRST], false, 0\n",
      "                  +- Exchange hashpartitioning(id#174L, 12), ENSURE_REQUIREMENTS, [id=#358]\n",
      "                     +- Exchange RoundRobinPartitioning(6), REPARTITION_BY_NUM, [id=#350]\n",
      "                        +- Range (2, 10000000, step=4, splits=6)\n",
      "\n",
      "\n"
     ]
    }
   ],
   "source": [
    "step4.explain()"
   ]
  },
  {
   "cell_type": "code",
   "execution_count": 6,
   "metadata": {},
   "outputs": [
    {
     "name": "stdout",
     "output_type": "stream",
     "text": [
      "22/10/19 12:23:31 WARN SparkSession: Using an existing Spark session; only runtime SQL configurations will take effect.\n"
     ]
    },
    {
     "name": "stderr",
     "output_type": "stream",
     "text": [
      "[Stage 0:>                                                          (0 + 6) / 6]\r"
     ]
    },
    {
     "name": "stdout",
     "output_type": "stream",
     "text": [
      "140\n"
     ]
    },
    {
     "name": "stderr",
     "output_type": "stream",
     "text": [
      "                                                                                \r"
     ]
    }
   ],
   "source": [
    "# accumulator \n",
    "import pyspark\n",
    "from pyspark.sql import SparkSession\n",
    "spark=SparkSession.builder.appName(\"Practise\").getOrCreate()\n",
    "acc = spark.sparkContext.accumulator(0) # 0 is the initial value of the accumulator\n",
    "\n",
    "def f(x):\n",
    "    global acc\n",
    "    acc += x\n",
    "\n",
    "rdd = spark.sparkContext.parallelize([20, 30, 40, 50])\n",
    "rdd.foreach(f)\n",
    "final = acc.value\n",
    "print(final)\n"
   ]
  },
  {
   "cell_type": "code",
   "execution_count": 8,
   "metadata": {},
   "outputs": [
    {
     "name": "stdout",
     "output_type": "stream",
     "text": [
      "== Physical Plan ==\n",
      "AdaptiveSparkPlan isFinalPlan=false\n",
      "+- Project [id#0L, name#1, age#2L, country#7]\n",
      "   +- BroadcastHashJoin [id#0L], [id#6L], Inner, BuildRight, false\n",
      "      :- Filter isnotnull(id#0L)\n",
      "      :  +- Scan ExistingRDD[id#0L,name#1,age#2L]\n",
      "      +- BroadcastExchange HashedRelationBroadcastMode(List(input[0, bigint, false]),false), [id=#24]\n",
      "         +- Filter isnotnull(id#6L)\n",
      "            +- Scan ExistingRDD[id#6L,country#7]\n",
      "\n",
      "\n"
     ]
    }
   ],
   "source": [
    "\n",
    "\n",
    "# broadcast join \n",
    "from pyspark.sql.functions import broadcast\n",
    "df1 = spark.createDataFrame([(1, \"John Doe\", 21)], (\"id\", \"name\", \"age\"))\n",
    "df2 = spark.createDataFrame([(1, \"USA\")], (\"id\", \"country\"))\n",
    "df1.join(broadcast(df2), \"id\").explain()\n",
    "\n"
   ]
  },
  {
   "cell_type": "code",
   "execution_count": 10,
   "metadata": {},
   "outputs": [
    {
     "name": "stdout",
     "output_type": "stream",
     "text": [
      "+-------------+\n",
      "|toUpper(name)|\n",
      "+-------------+\n",
      "|     JOHN DOE|\n",
      "+-------------+\n",
      "\n"
     ]
    }
   ],
   "source": [
    "# udf  (user defined function)\n",
    "from pyspark.sql.functions import udf\n",
    "from pyspark.sql.types import StringType\n",
    "def toUpper(s):\n",
    "    if s is not None:\n",
    "        return s.upper()\n",
    "toUpperUDF = udf(toUpper, StringType()) # register the function as a UDF and also specify the return type of the UDF\n",
    "df1.select(toUpperUDF(\"name\")).show()\n",
    "\n",
    "\n",
    "# python udf is slower than scala udf because of the serialization overhead of python udf"
   ]
  },
  {
   "cell_type": "code",
   "execution_count": 23,
   "metadata": {},
   "outputs": [
    {
     "name": "stdout",
     "output_type": "stream",
     "text": [
      "+---+-------+----+----------+\n",
      "| id|country|year|population|\n",
      "+---+-------+----+----------+\n",
      "|  1|    USA|2015|       100|\n",
      "|  1|    USA|2016|       200|\n",
      "|  1|    USA|2017|       300|\n",
      "|  1|    USA|2018|       400|\n",
      "|  1|    USA|2019|       500|\n",
      "|  2|  India|2015|       100|\n",
      "|  2|  India|2016|       200|\n",
      "|  2|  India|2017|       300|\n",
      "|  2|  India|2018|       400|\n",
      "|  2|  India|2019|       500|\n",
      "|  3|  China|2015|       100|\n",
      "|  3|  China|2016|       200|\n",
      "|  3|  China|2017|       300|\n",
      "|  3|  China|2018|       400|\n",
      "|  3|  China|2019|       500|\n",
      "+---+-------+----+----------+\n",
      "\n",
      "+----+-----+-----+---+\n",
      "|year|China|India|USA|\n",
      "+----+-----+-----+---+\n",
      "|2016|  200|  200|200|\n",
      "|2018|  400|  400|400|\n",
      "|2017|  300|  300|300|\n",
      "|2019|  500|  500|500|\n",
      "|2015|  100|  100|100|\n",
      "+----+-----+-----+---+\n",
      "\n"
     ]
    }
   ],
   "source": [
    "# pivot example \n",
    "df = spark.createDataFrame([(1,\"USA\",2015,100),(1,\"USA\",2016,200),(1,\"USA\",2017,300),(1,\"USA\",2018,400),(1,\"USA\",2019,500),(2,\"India\",2015,100),(2,\"India\",2016,200),(2,\"India\",2017,300),(2,\"India\",2018,400),(2,\"India\",2019,500),(3,\"China\",2015,100),(3,\"China\",2016,200),(3,\"China\",2017,300),(3,\"China\",2018,400),(3,\"China\",2019,500)],(\"id\",\"country\",\"year\",\"population\"))\n",
    "df.show()\n",
    "\n",
    "df.groupBy(\"year\").pivot(\"country\").sum(\"population\").show()"
   ]
  },
  {
   "cell_type": "code",
   "execution_count": 28,
   "metadata": {},
   "outputs": [
    {
     "name": "stdout",
     "output_type": "stream",
     "text": [
      "+---+-------+----+----------+---------------+\n",
      "| id|country|year|population|population_rank|\n",
      "+---+-------+----+----------+---------------+\n",
      "|  3|  China|2019|       500|          500.0|\n",
      "|  3|  China|2018|       400|          450.0|\n",
      "|  3|  China|2017|       300|          400.0|\n",
      "|  3|  China|2016|       200|          350.0|\n",
      "|  3|  China|2015|       100|          300.0|\n",
      "|  2|  India|2019|       500|          500.0|\n",
      "|  2|  India|2018|       400|          450.0|\n",
      "|  2|  India|2017|       300|          400.0|\n",
      "|  2|  India|2016|       200|          350.0|\n",
      "|  2|  India|2015|       100|          300.0|\n",
      "|  1|    USA|2019|       500|          500.0|\n",
      "|  1|    USA|2018|       400|          450.0|\n",
      "|  1|    USA|2017|       300|          400.0|\n",
      "|  1|    USA|2016|       200|          350.0|\n",
      "|  1|    USA|2015|       100|          300.0|\n",
      "+---+-------+----+----------+---------------+\n",
      "\n"
     ]
    }
   ],
   "source": [
    "#window function\n",
    "from pyspark.sql.window import Window\n",
    "from pyspark.sql.functions import col, avg\n",
    "windowSpec = Window.partitionBy(\"country\").orderBy(col(\"population\").desc())\n",
    "df.withColumn(\"population_rank\", avg(\"population\").over(windowSpec)).show()\n",
    "\n"
   ]
  },
  {
   "cell_type": "code",
   "execution_count": null,
   "metadata": {},
   "outputs": [],
   "source": []
  }
 ],
 "metadata": {
  "kernelspec": {
   "display_name": "Python 3.10.6 ('spark_env': venv)",
   "language": "python",
   "name": "python3"
  },
  "language_info": {
   "codemirror_mode": {
    "name": "ipython",
    "version": 3
   },
   "file_extension": ".py",
   "mimetype": "text/x-python",
   "name": "python",
   "nbconvert_exporter": "python",
   "pygments_lexer": "ipython3",
   "version": "3.10.6"
  },
  "orig_nbformat": 4,
  "vscode": {
   "interpreter": {
    "hash": "c1cff7510a9697e4f5c5dbba1501fd973040d5b6b533a37b048e588329fd0068"
   }
  }
 },
 "nbformat": 4,
 "nbformat_minor": 2
}
