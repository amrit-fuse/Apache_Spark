{
 "cells": [
  {
   "cell_type": "markdown",
   "metadata": {},
   "source": [
    "## Chaining\n",
    "We can **chain** transformations and action to create a computation **pipeline**\n",
    "Suppose we want to compute the sum of the squares\n",
    "$$ \\sum_{i=1}^n x_i^2 $$\n",
    "where the elements $x_i$ are stored in an RDD."
   ]
  },
  {
   "cell_type": "markdown",
   "metadata": {},
   "source": [
    "### Start the `SparkContext`"
   ]
  },
  {
   "cell_type": "code",
   "execution_count": 39,
   "metadata": {},
   "outputs": [
    {
     "ename": "ValueError",
     "evalue": "Cannot run multiple SparkContexts at once; existing SparkContext(app=pyspark-shell, master=local[4]) created by __init__ at /tmp/ipykernel_5159/4023248638.py:3 ",
     "output_type": "error",
     "traceback": [
      "\u001b[0;31m---------------------------------------------------------------------------\u001b[0m",
      "\u001b[0;31mValueError\u001b[0m                                Traceback (most recent call last)",
      "Cell \u001b[0;32mIn [39], line 3\u001b[0m\n\u001b[1;32m      1\u001b[0m \u001b[39mimport\u001b[39;00m \u001b[39mnumpy\u001b[39;00m \u001b[39mas\u001b[39;00m \u001b[39mnp\u001b[39;00m\n\u001b[1;32m      2\u001b[0m \u001b[39mfrom\u001b[39;00m \u001b[39mpyspark\u001b[39;00m \u001b[39mimport\u001b[39;00m SparkContext\n\u001b[0;32m----> 3\u001b[0m sc \u001b[39m=\u001b[39m SparkContext(master\u001b[39m=\u001b[39m\u001b[39m\"\u001b[39m\u001b[39mlocal[4]\u001b[39m\u001b[39m\"\u001b[39m)\n",
      "File \u001b[0;32m/opt/spark/python/pyspark/context.py:195\u001b[0m, in \u001b[0;36mSparkContext.__init__\u001b[0;34m(self, master, appName, sparkHome, pyFiles, environment, batchSize, serializer, conf, gateway, jsc, profiler_cls, udf_profiler_cls)\u001b[0m\n\u001b[1;32m    189\u001b[0m \u001b[39mif\u001b[39;00m gateway \u001b[39mis\u001b[39;00m \u001b[39mnot\u001b[39;00m \u001b[39mNone\u001b[39;00m \u001b[39mand\u001b[39;00m gateway\u001b[39m.\u001b[39mgateway_parameters\u001b[39m.\u001b[39mauth_token \u001b[39mis\u001b[39;00m \u001b[39mNone\u001b[39;00m:\n\u001b[1;32m    190\u001b[0m     \u001b[39mraise\u001b[39;00m \u001b[39mValueError\u001b[39;00m(\n\u001b[1;32m    191\u001b[0m         \u001b[39m\"\u001b[39m\u001b[39mYou are trying to pass an insecure Py4j gateway to Spark. This\u001b[39m\u001b[39m\"\u001b[39m\n\u001b[1;32m    192\u001b[0m         \u001b[39m\"\u001b[39m\u001b[39m is not allowed as it is a security risk.\u001b[39m\u001b[39m\"\u001b[39m\n\u001b[1;32m    193\u001b[0m     )\n\u001b[0;32m--> 195\u001b[0m SparkContext\u001b[39m.\u001b[39;49m_ensure_initialized(\u001b[39mself\u001b[39;49m, gateway\u001b[39m=\u001b[39;49mgateway, conf\u001b[39m=\u001b[39;49mconf)\n\u001b[1;32m    196\u001b[0m \u001b[39mtry\u001b[39;00m:\n\u001b[1;32m    197\u001b[0m     \u001b[39mself\u001b[39m\u001b[39m.\u001b[39m_do_init(\n\u001b[1;32m    198\u001b[0m         master,\n\u001b[1;32m    199\u001b[0m         appName,\n\u001b[0;32m   (...)\u001b[0m\n\u001b[1;32m    208\u001b[0m         udf_profiler_cls,\n\u001b[1;32m    209\u001b[0m     )\n",
      "File \u001b[0;32m/opt/spark/python/pyspark/context.py:430\u001b[0m, in \u001b[0;36mSparkContext._ensure_initialized\u001b[0;34m(cls, instance, gateway, conf)\u001b[0m\n\u001b[1;32m    427\u001b[0m     callsite \u001b[39m=\u001b[39m SparkContext\u001b[39m.\u001b[39m_active_spark_context\u001b[39m.\u001b[39m_callsite\n\u001b[1;32m    429\u001b[0m     \u001b[39m# Raise error if there is already a running Spark context\u001b[39;00m\n\u001b[0;32m--> 430\u001b[0m     \u001b[39mraise\u001b[39;00m \u001b[39mValueError\u001b[39;00m(\n\u001b[1;32m    431\u001b[0m         \u001b[39m\"\u001b[39m\u001b[39mCannot run multiple SparkContexts at once; \u001b[39m\u001b[39m\"\u001b[39m\n\u001b[1;32m    432\u001b[0m         \u001b[39m\"\u001b[39m\u001b[39mexisting SparkContext(app=\u001b[39m\u001b[39m%s\u001b[39;00m\u001b[39m, master=\u001b[39m\u001b[39m%s\u001b[39;00m\u001b[39m)\u001b[39m\u001b[39m\"\u001b[39m\n\u001b[1;32m    433\u001b[0m         \u001b[39m\"\u001b[39m\u001b[39m created by \u001b[39m\u001b[39m%s\u001b[39;00m\u001b[39m at \u001b[39m\u001b[39m%s\u001b[39;00m\u001b[39m:\u001b[39m\u001b[39m%s\u001b[39;00m\u001b[39m \u001b[39m\u001b[39m\"\u001b[39m\n\u001b[1;32m    434\u001b[0m         \u001b[39m%\u001b[39m (\n\u001b[1;32m    435\u001b[0m             currentAppName,\n\u001b[1;32m    436\u001b[0m             currentMaster,\n\u001b[1;32m    437\u001b[0m             callsite\u001b[39m.\u001b[39mfunction,\n\u001b[1;32m    438\u001b[0m             callsite\u001b[39m.\u001b[39mfile,\n\u001b[1;32m    439\u001b[0m             callsite\u001b[39m.\u001b[39mlinenum,\n\u001b[1;32m    440\u001b[0m         )\n\u001b[1;32m    441\u001b[0m     )\n\u001b[1;32m    442\u001b[0m \u001b[39melse\u001b[39;00m:\n\u001b[1;32m    443\u001b[0m     SparkContext\u001b[39m.\u001b[39m_active_spark_context \u001b[39m=\u001b[39m instance\n",
      "\u001b[0;31mValueError\u001b[0m: Cannot run multiple SparkContexts at once; existing SparkContext(app=pyspark-shell, master=local[4]) created by __init__ at /tmp/ipykernel_5159/4023248638.py:3 "
     ]
    }
   ],
   "source": [
    "import numpy as np\n",
    "from pyspark import SparkContext\n",
    "sc = SparkContext(master=\"local[4]\") "
   ]
  },
  {
   "cell_type": "code",
   "execution_count": null,
   "metadata": {},
   "outputs": [
    {
     "name": "stdout",
     "output_type": "stream",
     "text": [
      "7, 8, 3, 6, 2, 3, 5, 5, 8, 4, 4, 9, 3, 1, 7, 5, 0, 0, 0, 8, 9, 6, 5, 4, 5, 2, 5, 4, 2, 0, 0, 2, 0, 4, 2, 0, 7, 7, 3, 7, 5, 2, 1, 5, 6, 3, 3, 9, 3, 5, 7, 4, 6, 3, 2, 5, 7, 6, 6, 5, 1, 6, 8, 3, 4, 8, 8, 6, 6, 5, 4, 1, 1, 5, 4, 8, 0, 4, 3, 0, 7, 1, 7, 4, 0, 7, 0, 2, 6, 2, 4, 4, 1, 6, 5, 6, 3, 1, 1, 8, 2, 1, 5, 3, 0, 7, 1, 6, 9, 3, 5, 3, 6, 8, 4, 3, 9, 6, 5, 3, 3, 9, 1, 3, 4, 4, 6, 4, 4, 0, 0, 8, 1, 2, 2, 6, 1, 0, 8, 3, 3, 7, 2, 2, 4, 5, 2, 7, 5, 2, 1, 8, 9, 0, 6, 7, 0, 8, 9, 0, 2, 7, 6, 4, 9, 4, 1, 4, 9, 8, 3, 2, 9, 1, 0, 5, 8, 5, 5, 5, 6, 6, 5, 9, 1, 3, 4, 3, 7, 9, 2, 3, 2, 1, 6, 7, 5, 2, 1, 9, 0, 8, 9, 8, 2, 0, 4, 9, 9, 6, 4, 5, 9, 4, 9, 1, 9, 6, 8, 1, 9, 8, 9, 2, 3, 0, 0, 0, 8, 1, 5, 9, 2, 8, 3, 9, 6, 8, 3, 4, 3, 0, 4, 9, 9, 7, 9, 8, 4, 7, 9, 0, 6, 7, 3, 7, 4, 2, 4, 9, 1, 6, 5, 1, 1, 3, 3, 1, 0, 6, 6, 0, 8, 2, 3, 4, 8, 2, 4, 8, 7, 0, 8, 4, 5, 0, 2, 1, 3, 9, 4, 9, 5, 5, 9, 2, 6, 4, 0, 6, 1, 0, 0, 2, 9, 9, 3, 1, 7, 4, 4, 0, 7, 4, 0, 3, 1, 3, 5, 2, 7, 1, 8, 3, 9, 8, 1, 3, 3, 0, 6, 9, 1, 6, 1, 3, 4, 5, 2, 8, 2, 7, 5, 5, 6, 5, 2, 4, 1, 5, 0, 0, 7, 9, 8, 3, 1, 5, 2, 4, 5, 2, 9, 7, 0, 8, 2, 0, 5, 6, 7, 1, 0, 7, 9, 4, 8, 9, 0, 1, 9, 8, 8, 8, 2, 0, 9, 9, 8, 3, 0, 9, 3, 2, 7, 1, 1, 9, 2, 4, 8, 5, 7, 2, 1, 3, 9, 8, 2, 8, 0, 5, 5, 9, 5, 2, 4, 2, 0, 0, 8, 6, 6, 3, 6, 2, 6, 2, 6, 3, 8, 5, 6, 7, 6, 4, 1, 0, 2, 2, 1, 8, 4, 6, 5, 5, 2, 6, 8, 9, 2, 7, 1, 5, 9, 4, 7, 4, 3, 4, 5, 6, 2, 8, 3, 3, 5, 5, 8, 7, 7, 6, 8, 2, 8, 0, 1, 6, 4, 0, 0, 9, 5, 0, 0, 3, 6, 9, 6, 6, 7, 8, 7, 0, 2, 2, 8, 9, 8, 2, 6, 0, 2, 5, 3, 0, 0, 4, 4, 4, 3, 6, 9, 8, 7, 7, 8, 4, 7, 2, 2, 5, 9, 1, 1, 9, 3, 6, 0, 9, 7, 1, 0, 7, 2, 9, 6, 8, 6, 8, 1, 5, 7, 5, 1, 3, 3, 6, 1, 8, 6, 6, 4, 2, 1, 6, 8, 9, 1, 2, 6, 2, 6, 1, 6, 0, 7, 5, 4, 8, 5, 8, 9, 3, 7, 7, 9, 1, 2, 9, 0, 5, 1, 3, 8, 7, 6, 0, 0, 9, 9, 4, 6, 3, 6, 8, 0, 9, 8, 7, 4, 5, 0, 9, 6, 0, 8, 5, 8, 5, 5, 0, 9, 7, 8, 4, 4, 2, 7, 6, 1, 8, 9, 2, 7, 5, 7, 5, 9, 6, 2, 7, 2, 6, 8, 9, 8, 8, 8, 2, 7, 3, 7, 8, 8, 6, 8, 5, 3, 5, 0, 4, 3, 2, 7, 1, 3, 6, 4, 6, 2, 8, 3, 7, 4, 9, 4, 9, 8, 4, 5, 1, 3, 3, 5, 2, 3, 2, 4, 4, 3, 9, 8, 3, 5, 7, 6, 5, 9, 8, 9, 3, 3, 8, 7, 2, 8, 1, 1, 8, 7, 7, 7, 4, 8, 1, 2, 1, 1, 3, 7, 8, 5, 4, 6, 1, 5, 8, 3, 3, 7, 5, 6, 4, 9, 7, 7, 2, 0, 4, 8, 6, 3, 8, 0, 4, 2, 2, 4, 3, 8, 1, 6, 3, 0, 6, 3, 0, 3, 4, 6, 1, 0, 8, 6, 1, 8, 9, 7, 5, 3, 3, 8, 8, 0, 3, 1, 8, 1, 4, 1, 0, 0, 9, 7, 9, 5, 5, 3, 3, 0, 6, 3, 4, 3, 8, 3, 0, 0, 9, 0, 5, 3, 8, 7, 0, 2, 8, 0, 7, 9, 0, 2, 4, 3, 6, 5, 1, 6, 4, 5, 8, 9, 9, 2, 1, 9, 4, 6, 3, 7, 7, 8, 6, 3, 7, 9, 3, 1, 3, 4, 9, 0, 4, 5, 2, 2, 2, 5, 5, 5, 3, 8, 5, 2, 2, 7, 4, 0, 8, 3, 1, 6, 4, 0, 5, 9, 6, 5, 5, 8, 7, 8, 2, 9, 7, 0, 6, 5, 0, 7, 6, 0, 9, 6, 8, 7, 9, 6, 2, 6, 1, 1, 5, 4, 2, 0, 0, 1, 0, 6, 8, 4, 9, 2, 8, 9, 5, 7, 2, 2, 5, 4, 4, 5, 2, 0, 8, 5, 9, 9, 1, 3, 8, 1, 7, 6, 7, 6, 2, 7, 0, 1, 3, 1, 2, 0, 4, 6, 0, 1, 6, 4, 2, 4, 4, 5, 0, 8, 8, 5, 5, 2, 6, 2, 3, 2, 8, 2, 6, 0, 5, 6, 0, 1, 6, 5, 3, 5, 6, 6, 0, 9, 1, 3, 0, 3, 3, 7, 3, 4, 0, 9, 9, 1, 7, 2, 5, 7, 8, 0, 0, 5, 9, 9, 3, 7, 1, 0, 4, 4, 8, 3, 4, 7, 4, 7, 1, 1, 1, "
     ]
    }
   ],
   "source": [
    "B=sc.parallelize(np.random.randint(0,10,size=1000)) # Create RDD B with 1000 random integers from 0 to 9\n",
    "lst = B.collect()  \n",
    "for i in lst: \n",
    "    print(i,end=', ')  # print element seperated by comma"
   ]
  },
  {
   "cell_type": "markdown",
   "metadata": {},
   "source": [
    "### Sequential syntax for chaining\n",
    "Perform assignment after each computation"
   ]
  },
  {
   "cell_type": "code",
   "execution_count": null,
   "metadata": {},
   "outputs": [
    {
     "name": "stdout",
     "output_type": "stream",
     "text": [
      "CPU times: user 640 µs, sys: 7.04 ms, total: 7.68 ms\n",
      "Wall time: 118 ms\n"
     ]
    }
   ],
   "source": [
    "%%time\n",
    "Squares=B.map(lambda x:x*x) # Create RDD Squares by applying lambda function to each element of RDD B\n",
    "summation = Squares.reduce(lambda x,y:x+y)  # reduce RDD Squares to a single value by summming first two element and the result with the third element and so on"
   ]
  },
  {
   "cell_type": "code",
   "execution_count": null,
   "metadata": {},
   "outputs": [
    {
     "name": "stdout",
     "output_type": "stream",
     "text": [
      "28625\n"
     ]
    }
   ],
   "source": [
    "print(summation)"
   ]
  },
  {
   "cell_type": "markdown",
   "metadata": {},
   "source": [
    "### Cascaded syntax for chaining\n",
    "Combine computations into a single cascaded command"
   ]
  },
  {
   "cell_type": "code",
   "execution_count": null,
   "metadata": {},
   "outputs": [
    {
     "name": "stdout",
     "output_type": "stream",
     "text": [
      "CPU times: user 4.34 ms, sys: 4.56 ms, total: 8.91 ms\n",
      "Wall time: 89.3 ms\n"
     ]
    },
    {
     "data": {
      "text/plain": [
       "28625"
      ]
     },
     "execution_count": 38,
     "metadata": {},
     "output_type": "execute_result"
    }
   ],
   "source": [
    "%%time\n",
    "B.map(lambda x:x*x).reduce(lambda x,y:x+y)  # similar to above but in one line of code   \n",
    "# first compute squares then enter element as input to reduce function"
   ]
  },
  {
   "cell_type": "markdown",
   "metadata": {},
   "source": [
    "### Both syntaxes mean exactly the same thing\n",
    "The only difference:\n",
    "* In the sequential syntax the intermediate RDD has a name `Squares`\n",
    "* In the cascaded syntax the intermediate RDD is *anonymous*\n",
    "\n",
    "The execution is identical!\n",
    "\n",
    "### Sequential execution\n",
    "The standard way that the map and reduce are executed is\n",
    "* perform the map\n",
    "* store the resulting RDD in memory\n",
    "* perform the reduce\n",
    "\n",
    "### Disadvantages of Sequential execution\n",
    "\n",
    "1. Intermediate result (`Squares`) requires memory space.\n",
    "2. Two scans of memory (of `B`, then of `Squares`) - double the cache-misses.\n",
    "\n",
    "### Pipelined execution\n",
    "Perform the whole computation in a single pass. For each element of **`B`**\n",
    "1. Compute the square\n",
    "2. Enter the square as input to the `reduce` operation.\n",
    "\n",
    "### Advantages of Pipelined execution\n",
    "\n",
    "1. Less memory required - intermediate result is not stored.\n",
    "2. Faster - only one pass through the Input RDD."
   ]
  },
  {
   "cell_type": "code",
   "execution_count": null,
   "metadata": {},
   "outputs": [],
   "source": [
    "sc.stop()"
   ]
  },
  {
   "cell_type": "code",
   "execution_count": null,
   "metadata": {},
   "outputs": [],
   "source": []
  }
 ],
 "metadata": {
  "kernelspec": {
   "display_name": "Python 3.10.6 ('spark_env': venv)",
   "language": "python",
   "name": "python3"
  },
  "language_info": {
   "codemirror_mode": {
    "name": "ipython",
    "version": 3
   },
   "file_extension": ".py",
   "mimetype": "text/x-python",
   "name": "python",
   "nbconvert_exporter": "python",
   "pygments_lexer": "ipython3",
   "version": "3.10.6"
  },
  "vscode": {
   "interpreter": {
    "hash": "c1cff7510a9697e4f5c5dbba1501fd973040d5b6b533a37b048e588329fd0068"
   }
  }
 },
 "nbformat": 4,
 "nbformat_minor": 2
}
