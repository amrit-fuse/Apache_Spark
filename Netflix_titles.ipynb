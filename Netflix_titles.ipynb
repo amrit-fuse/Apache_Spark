{
 "cells": [
  {
   "cell_type": "markdown",
   "metadata": {},
   "source": [
    "### Alert !!!! dont forget to trim the `string` column before comparing (filtering) as whitespaces is present in both sides ."
   ]
  },
  {
   "cell_type": "markdown",
   "metadata": {},
   "source": [
    "# All installs"
   ]
  },
  {
   "cell_type": "code",
   "execution_count": null,
   "metadata": {},
   "outputs": [],
   "source": []
  },
  {
   "cell_type": "code",
   "execution_count": 78,
   "metadata": {},
   "outputs": [],
   "source": [
    "# !pip freeze > requirements.txt"
   ]
  },
  {
   "cell_type": "markdown",
   "metadata": {},
   "source": [
    "# All imports and setup"
   ]
  },
  {
   "cell_type": "code",
   "execution_count": 79,
   "metadata": {},
   "outputs": [],
   "source": [
    "from pyspark.sql import SparkSession , functions as F\n",
    "\n",
    "spark = SparkSession.builder.appName('Netflix')\\\n",
    "    .config('spark.driver.extraClassPath', '/usr/lib/jvm/java-17-openjdk-amd64/lib/postgresql-42.5.0.jar')\\\n",
    "    .getOrCreate()\n"
   ]
  },
  {
   "cell_type": "code",
   "execution_count": 80,
   "metadata": {},
   "outputs": [],
   "source": [
    "\n",
    "# from pyspark.sql.types import StructType , StructField , StringType , IntegerType , DateType , DoubleType , FloatType\n"
   ]
  },
  {
   "cell_type": "code",
   "execution_count": 81,
   "metadata": {},
   "outputs": [],
   "source": [
    "# # define cusatom schema for      ('Data/netflix_titles.json') date added =August 14, 2020 \n",
    "\n",
    "# schema=StructType([StructField('show_id',StringType(),True),StructField('type',StringType(),True),StructField('title',StringType(),True),StructField('director',StringType(),True),StructField('cast',StringType(),True),StructField('country',StringType(),True),StructField('date_added',StringType(),True),StructField('release_year',StringType(),True),StructField('rating',StringType(),True),StructField('duration',StringType(),True),StructField('listed_in',StringType(),True),StructField('description',StringType(),True)])\n"
   ]
  },
  {
   "cell_type": "code",
   "execution_count": 82,
   "metadata": {},
   "outputs": [
    {
     "name": "stdout",
     "output_type": "stream",
     "text": [
      "+---------------+--------------------+-------------+-----------------+--------------------+-----------------+---------+--------------------+------+------------+-------+-----+-------+\n",
      "|_corrupt_record|                cast|      country|       date_added|         description|         director| duration|           listed_in|rating|release_year|show_id|title|   type|\n",
      "+---------------+--------------------+-------------+-----------------+--------------------+-----------------+---------+--------------------+------+------------+-------+-----+-------+\n",
      "|           null|João Miguel, Bian...|       Brazil|  August 14, 2020|In a future where...|                 |4 Seasons|International TV ...| TV-MA|        2020|     s1|   3%|TV Show|\n",
      "|           null|Demián Bichir, Hé...|       Mexico|December 23, 2016|After a devastati...|Jorge Michel Grau|   93 min|Dramas, Internati...| TV-MA|        2016|     s2| 7:19|  Movie|\n",
      "|           null|Tedd Chan, Stella...|    Singapore|December 20, 2018|When an army recr...|     Gilbert Chan|   78 min|Horror Movies, In...|     R|        2011|     s3|23:59|  Movie|\n",
      "|           null|Elijah Wood, John...|United States|November 16, 2017|In a postapocalyp...|      Shane Acker|   80 min|Action & Adventur...| PG-13|        2009|     s4|    9|  Movie|\n",
      "|           null|Jim Sturgess, Kev...|United States|  January 1, 2020|A brilliant group...|   Robert Luketic|  123 min|              Dramas| PG-13|        2008|     s5|   21|  Movie|\n",
      "+---------------+--------------------+-------------+-----------------+--------------------+-----------------+---------+--------------------+------+------------+-------+-----+-------+\n",
      "only showing top 5 rows\n",
      "\n"
     ]
    }
   ],
   "source": [
    "\n",
    "# Netflix_Titles = spark.read.json('Data/netflix_titles.json') \n",
    "Netflix_Titles = spark.read.json('Data/netflix_titles.json')\n",
    "\n",
    "Netflix_Titles.show(5)"
   ]
  },
  {
   "cell_type": "code",
   "execution_count": 83,
   "metadata": {},
   "outputs": [
    {
     "name": "stdout",
     "output_type": "stream",
     "text": [
      "root\n",
      " |-- _corrupt_record: string (nullable = true)\n",
      " |-- cast: string (nullable = true)\n",
      " |-- country: string (nullable = true)\n",
      " |-- date_added: string (nullable = true)\n",
      " |-- description: string (nullable = true)\n",
      " |-- director: string (nullable = true)\n",
      " |-- duration: string (nullable = true)\n",
      " |-- listed_in: string (nullable = true)\n",
      " |-- rating: string (nullable = true)\n",
      " |-- release_year: string (nullable = true)\n",
      " |-- show_id: string (nullable = true)\n",
      " |-- title: string (nullable = true)\n",
      " |-- type: string (nullable = true)\n",
      "\n"
     ]
    }
   ],
   "source": [
    "\n",
    "Netflix_Titles.printSchema()"
   ]
  },
  {
   "cell_type": "markdown",
   "metadata": {},
   "source": [
    "# 1. How many PG-13 titles are there?"
   ]
  },
  {
   "cell_type": "code",
   "execution_count": 84,
   "metadata": {},
   "outputs": [
    {
     "name": "stdout",
     "output_type": "stream",
     "text": [
      "+-----------+------+\n",
      "|      title|rating|\n",
      "+-----------+------+\n",
      "|          9| PG-13|\n",
      "|         21| PG-13|\n",
      "|   Æon Flux| PG-13|\n",
      "|10,000 B.C.| PG-13|\n",
      "|  16 Blocks| PG-13|\n",
      "+-----------+------+\n",
      "only showing top 5 rows\n",
      "\n",
      "count of PG-13 rating 386\n"
     ]
    }
   ],
   "source": [
    "# rating column  contains Rating for films and one of them is PG-13\n",
    "PG_13= Netflix_Titles.select('title','rating').filter(Netflix_Titles.rating=='PG-13')\n",
    "\n",
    "PG_13.show(5)\n",
    "\n",
    "print('count of PG-13 rating',PG_13.count())\n",
    "\n",
    "############ CSV ############\n",
    "PG_13.coalesce(1).write.csv('Output/Netflix/PG_13',header=True,mode='overwrite')\n",
    "\n",
    "# ############ Postgres ############\n",
    "PG_13.write.format('jdbc').options( url='jdbc:postgresql://127.0.0.1/Netflix_titles', driver='org.postgresql.Driver',  dbtable='PG_13', user='amrit', password='1234').mode('overwrite').save()\n",
    "# mode(overwrite) drop old table from database and creates a new table 'directors_count_no_empty'\n",
    "#save() is action and it will execute the query"
   ]
  },
  {
   "cell_type": "markdown",
   "metadata": {},
   "source": [
    "# 2. How many titles an actor or actress appeared in?\n"
   ]
  },
  {
   "cell_type": "code",
   "execution_count": 85,
   "metadata": {},
   "outputs": [
    {
     "name": "stdout",
     "output_type": "stream",
     "text": [
      "+----------------+-----+\n",
      "|            cast|count|\n",
      "+----------------+-----+\n",
      "|                |  716|\n",
      "|     Anupam Kher|   41|\n",
      "|  Shah Rukh Khan|   35|\n",
      "|Naseeruddin Shah|   30|\n",
      "|         Om Puri|   30|\n",
      "+----------------+-----+\n",
      "only showing top 5 rows\n",
      "\n",
      "+----------------+-----+\n",
      "|            cast|count|\n",
      "+----------------+-----+\n",
      "|     Anupam Kher|   41|\n",
      "|  Shah Rukh Khan|   35|\n",
      "|         Om Puri|   30|\n",
      "|Naseeruddin Shah|   30|\n",
      "|    Akshay Kumar|   29|\n",
      "+----------------+-----+\n",
      "only showing top 5 rows\n",
      "\n"
     ]
    }
   ],
   "source": [
    "\n",
    "Only_cast= Netflix_Titles.select(Netflix_Titles['cast']).withColumn('cast', F.explode(F.split('cast', ','))) # new data frame after  split items in  cast column and then  expand/explode items in cast columns into rows  \n",
    "\n",
    "Only_cast=Only_cast.withColumn('cast',F.trim(Only_cast['cast']))\n",
    "\n",
    "cast_count= Only_cast.groupBy('cast').count().orderBy('count', ascending=False) # groupby 'cast' and count the number of times each actor appeared in the data frame\n",
    "\n",
    "cast_count.show(5) # count empty values too \n",
    "\n",
    "cast_count_no_empty= cast_count.filter(cast_count['cast'] != '') #  empty values in cast column are removed \n",
    "\n",
    "cast_count_no_empty.show(5)  # empty values  not counted\n",
    "\n",
    "# # oneliner\n",
    "# Netflix_Titles.select(Netflix_Titles['cast']).withColumn('cast', F.explode(F.split('cast', ','))).groupBy('cast').count().orderBy('count', ascending=False).show(5)  # count empty values too \n",
    "\n",
    "\n",
    "############ CSV ############\n",
    "cast_count_no_empty.coalesce(1).write.csv('Output/Netflix/Cast_count',header=True,mode='overwrite')\n",
    "\n",
    "# # ############ Postgres ############\n",
    "cast_count_no_empty.write.format('jdbc').options( url='jdbc:postgresql://127.0.0.1/Netflix_titles', driver='org.postgresql.Driver',  dbtable='Cast_count', user='amrit', password='1234').mode('overwrite').save()"
   ]
  },
  {
   "cell_type": "markdown",
   "metadata": {},
   "source": [
    "# 3. How many titles has a director has filmed?"
   ]
  },
  {
   "cell_type": "code",
   "execution_count": 86,
   "metadata": {},
   "outputs": [
    {
     "name": "stdout",
     "output_type": "stream",
     "text": [
      "+-------------------+-----+\n",
      "|           director|count|\n",
      "+-------------------+-----+\n",
      "|          Jan Suter|   21|\n",
      "|        Raúl Campos|   19|\n",
      "|       Marcus Raboy|   16|\n",
      "|          Jay Karas|   15|\n",
      "|Cathy Garcia-Molina|   13|\n",
      "+-------------------+-----+\n",
      "only showing top 5 rows\n",
      "\n"
     ]
    },
    {
     "name": "stderr",
     "output_type": "stream",
     "text": [
      "                                                                                \r"
     ]
    }
   ],
   "source": [
    "#since multiple directors are separated by comma, we need to split them and then explode them into rows\n",
    "Only_directors= Netflix_Titles.select(Netflix_Titles['director']).withColumn('director', F.explode(F.split('director', ','))) \n",
    "\n",
    "Only_directors=Only_directors.withColumn('director',F.trim(Only_directors['director']))\n",
    "\n",
    "directors_count= Only_directors.groupBy('director').count().orderBy('count', ascending=False) \n",
    "\n",
    "# directors_count.show(5) \n",
    "\n",
    "directors_count_no_empty= directors_count.filter(directors_count['director'] != '') #  empty values in director column are removed\n",
    "\n",
    "directors_count_no_empty.show(5)  # empty values  not counted\n",
    "directors_count_no_empty.count() \n",
    "\n",
    "\n",
    "# # oneliner\n",
    "# Netflix_Titles.select(Netflix_Titles['director']).withColumn('director', F.explode(F.split('director', ','))).groupBy('director').count().orderBy('count', ascending=False).show(5)  # count empty values too\n",
    "\n",
    "\n",
    "############ CSV ############\n",
    "directors_count_no_empty.coalesce(1).write.csv('Output/Netflix/Directors_count',header=True,mode='overwrite')\n",
    "\n",
    "# # ############ Postgres ############\n",
    "directors_count_no_empty.write.format('jdbc').options( url='jdbc:postgresql://127.0.0.1/Netflix_titles', driver='org.postgresql.Driver',  dbtable='Directors_count', user='amrit', password='1234').mode('overwrite').save()"
   ]
  },
  {
   "cell_type": "markdown",
   "metadata": {},
   "source": [
    "# 4. What content is available in different countries?\n"
   ]
  },
  {
   "cell_type": "code",
   "execution_count": 87,
   "metadata": {},
   "outputs": [
    {
     "name": "stdout",
     "output_type": "stream",
     "text": [
      "+-------+--------------------+\n",
      "|country|           listed_in|\n",
      "+-------+--------------------+\n",
      "| Brazil|International TV ...|\n",
      "| Brazil|           TV Dramas|\n",
      "| Brazil| TV Sci-Fi & Fantasy|\n",
      "| Mexico|              Dramas|\n",
      "| Mexico| International Mo...|\n",
      "+-------+--------------------+\n",
      "only showing top 5 rows\n",
      "\n",
      "+-----------+--------------------+\n",
      "|    country|               Genre|\n",
      "+-----------+--------------------+\n",
      "|Afghanistan|Documentaries,Int...|\n",
      "|    Albania|Dramas,Internatio...|\n",
      "|    Algeria|Classic Movies,Dr...|\n",
      "|     Angola|Action & Adventur...|\n",
      "|  Argentina|Crime TV Shows,Do...|\n",
      "+-----------+--------------------+\n",
      "only showing top 5 rows\n",
      "\n"
     ]
    }
   ],
   "source": [
    "Only_genre_country= Netflix_Titles.select(Netflix_Titles['country'], Netflix_Titles['listed_in']).withColumn('country', F.explode(F.split('country', ','))).withColumn('listed_in', F.explode(F.split('listed_in', ',')))  # here  both country aand listed_in needed to be exploded \n",
    "\n",
    "Only_genre_country.show(5)\n",
    "\n",
    "\n",
    "# trim both country and listed_in columns\n",
    "Only_genre_country=Only_genre_country.withColumn('country',F.trim(Only_genre_country['country']))\n",
    "Only_genre_country=Only_genre_country.withColumn('listed_in',F.trim(Only_genre_country['listed_in']))\n",
    "\n",
    "# remove empty values in  listed_in  and country column\n",
    "Only_genre_country= Only_genre_country.filter(Only_genre_country['listed_in'] != '')\n",
    "Only_genre_country= Only_genre_country.filter(Only_genre_country['country'] != '')\n",
    "\n",
    "country_genre_combined=Only_genre_country.groupBy('country').agg(F.concat_ws(',', F.collect_set('listed_in')).alias('Genre')).sort('country') # groupby country and then combine all the genres in a single column\n",
    "\n",
    "country_genre_combined.show(5)\n",
    "\n",
    "############ CSV ############\n",
    "country_genre_combined.coalesce(1).write.csv('Output/Netflix/Country_genre_combined',header=True,mode='overwrite')\n",
    "\n",
    "# # ############ Postgres ############\n",
    "country_genre_combined.write.format('jdbc').options( url='jdbc:postgresql://127.0.0.1/Netflix_titles', driver='org.postgresql.Driver',  dbtable='Country_genre_combined', user='amrit', password='1234').mode('overwrite').save()\n"
   ]
  },
  {
   "cell_type": "code",
   "execution_count": 88,
   "metadata": {},
   "outputs": [
    {
     "name": "stdout",
     "output_type": "stream",
     "text": [
      "+--------------+--------------------+\n",
      "|       country|               Genre|\n",
      "+--------------+--------------------+\n",
      "|   Afghanistan|Documentaries,Int...|\n",
      "|       Albania|Dramas,Internatio...|\n",
      "|       Algeria|Classic Movies,Dr...|\n",
      "|        Angola|Action & Adventur...|\n",
      "|     Argentina|Crime TV Shows,Do...|\n",
      "|       Armenia|Documentaries,Int...|\n",
      "|     Australia|Crime TV Shows,Do...|\n",
      "|       Austria|Crime TV Shows,Do...|\n",
      "|    Azerbaijan|International TV ...|\n",
      "|       Bahamas|  Action & Adventure|\n",
      "|    Bangladesh|Independent Movie...|\n",
      "|       Belarus|British TV Shows,...|\n",
      "|       Belgium|Crime TV Shows,Do...|\n",
      "|       Bermuda|       Documentaries|\n",
      "|      Botswana|       Documentaries|\n",
      "|        Brazil|Faith & Spiritual...|\n",
      "|      Bulgaria|Horror Movies,Chi...|\n",
      "|      Cambodia|Children & Family...|\n",
      "|        Canada|Crime TV Shows,Do...|\n",
      "|Cayman Islands|Children & Family...|\n",
      "+--------------+--------------------+\n",
      "only showing top 20 rows\n",
      "\n"
     ]
    }
   ],
   "source": [
    "# access posstgres table using pyspark and verify the data\n",
    "country_genre_combined1234=spark.read.format('jdbc').options( url='jdbc:postgresql://127.0.0.1/Netflix_titles', driver='org.postgresql.Driver', dbtable='country_genre_combined', user='amrit', password='1234').load()\n",
    "country_genre_combined1234.show()\n"
   ]
  },
  {
   "cell_type": "markdown",
   "metadata": {},
   "source": [
    "# 5. How many movies were released in 2008?\n"
   ]
  },
  {
   "cell_type": "code",
   "execution_count": 89,
   "metadata": {},
   "outputs": [
    {
     "name": "stdout",
     "output_type": "stream",
     "text": [
      "+-----+-------------------+------------+\n",
      "| type|              title|release_year|\n",
      "+-----+-------------------+------------+\n",
      "|Movie|                 21|        2008|\n",
      "|Movie|               1920|        2008|\n",
      "|Movie|        10,000 B.C.|        2008|\n",
      "|Movie|   2 Alone in Paris|        2008|\n",
      "|Movie|A Very Special Love|        2008|\n",
      "+-----+-------------------+------------+\n",
      "only showing top 5 rows\n",
      "\n",
      "count:  Movies released in 2008:   102\n"
     ]
    }
   ],
   "source": [
    "movies_2008=Netflix_Titles.select(Netflix_Titles['type'],Netflix_Titles['title'],Netflix_Titles['release_year']).filter((Netflix_Titles['release_year'] == '2008') &( Netflix_Titles['type'] == 'Movie'))\n",
    "\n",
    "movies_2008.show(5)\n",
    "\n",
    "print('count:  Movies released in 2008:  ', movies_2008.count())\n",
    "\n",
    "############ CSV ############\n",
    "movies_2008.coalesce(1).write.csv('Output/Netflix/Movies_2008',header=True,mode='overwrite')\n",
    "\n",
    "# # ############ Postgres ############\n",
    "movies_2008.write.format('jdbc').options( url='jdbc:postgresql://127.0.0.1/Netflix_titles', driver='org.postgresql.Driver',  dbtable='Movies_2008', user='amrit', password='1234').mode('overwrite').save()\n"
   ]
  },
  {
   "cell_type": "markdown",
   "metadata": {},
   "source": [
    "# 6. List all the movies whose duration is greater than 100 mins ?\n"
   ]
  },
  {
   "cell_type": "code",
   "execution_count": 90,
   "metadata": {},
   "outputs": [
    {
     "name": "stdout",
     "output_type": "stream",
     "text": [
      "+-----+--------------------+--------+\n",
      "| type|               title|duration|\n",
      "+-----+--------------------+--------+\n",
      "|Movie|     Asphalt Burning|     101|\n",
      "|Movie|Zack and Miri Mak...|     101|\n",
      "|Movie|              A Choo|     101|\n",
      "|Movie|XXX: State of the...|     101|\n",
      "|Movie|           Woodshock|     101|\n",
      "+-----+--------------------+--------+\n",
      "only showing top 5 rows\n",
      "\n",
      "count: movies with duration more than 100 : 2430\n"
     ]
    }
   ],
   "source": [
    "#  remove min from duration column and convert(cast) to integer\n",
    "Netflix_Titles=Netflix_Titles.withColumn('duration', F.regexp_replace('duration', 'min', '')).withColumn('duration', F.col('duration').cast('int'))\n",
    "\n",
    "\n",
    "##### Below code will result in error  because there  duration column  contain  min and season as well so.. as we  only replace min with empty string, season will remain as it is and during conversion  it will result in error #############\n",
    "\n",
    "# def remove_min(duration):\n",
    "#     return int(duration.replace('min', ''))\n",
    "# remove_min_udf= F.udf(remove_min, IntegerType())\n",
    "\n",
    "# Netflix_Titles=Netflix_Titles.withColumn('duration', remove_min_udf('duration'))\n",
    "\n",
    "movies_100=Netflix_Titles.select(Netflix_Titles['type'],Netflix_Titles['title'],Netflix_Titles['duration']).filter((Netflix_Titles['duration'] > 100) &( Netflix_Titles['type'] == 'Movie')) .sort('duration', ascending=True)\n",
    "\n",
    "movies_100.show(5)\n",
    "\n",
    "print('count: movies with duration more than 100 :' ,movies_100.count())\n",
    "\n",
    "\n",
    "############ CSV ############\n",
    "movies_100.coalesce(1).write.csv('Output/Netflix/Movies_100',header=True,mode='overwrite')\n",
    "\n",
    "# # ############ Postgres ############\n",
    "movies_100.write.format('jdbc').options( url='jdbc:postgresql://127.0.0.1/Netflix_titles', driver='org.postgresql.Driver',  dbtable='Movies_100', user='amrit', password='1234').mode('overwrite').save()\n",
    "\n"
   ]
  },
  {
   "cell_type": "markdown",
   "metadata": {},
   "source": [
    "# 7. List movies played by “Kareena Kapoor” ?"
   ]
  },
  {
   "cell_type": "code",
   "execution_count": 91,
   "metadata": {},
   "outputs": [
    {
     "name": "stdout",
     "output_type": "stream",
     "text": [
      " Count :: Movies played by Kareena Kapoor are:  25\n"
     ]
    }
   ],
   "source": [
    "title_cast=Netflix_Titles.select(Netflix_Titles['title'],Netflix_Titles['cast']).withColumn('cast', F.explode(F.split('cast', ',')))\n",
    "\n",
    "# remove empty values in cast column\n",
    "title_cast=title_cast.filter(title_cast['cast'] != '')\n",
    "\n",
    "# trim white spaces in cast column  as some values have white spaces and shows inaccuracy in results \n",
    "title_cast=title_cast.withColumn('cast', F.trim(title_cast['cast']))\n",
    "\n",
    "Kareena_kapoor=title_cast.filter(title_cast['cast'] == 'Kareena Kapoor')\n",
    "\n",
    "# Kareena_kapoor.show(5)\n",
    "\n",
    "print(' Count :: Movies played by Kareena Kapoor are: ',Kareena_kapoor.count())\n",
    "\n",
    "####### CSV file  ############\n",
    "Kareena_kapoor.coalesce(1).write.csv('Output/Netflix/Kareena_kapoor', header=True, mode='overwrite')\n",
    "\n",
    "############ Postgres ############\n",
    "Kareena_kapoor.write.format('jdbc').options( url='jdbc:postgresql://127.0.0.1/Netflix_titles', driver='org.postgresql.Driver', dbtable='Kareena_kapoor', user='amrit', password='1234').mode('overwrite').save()\n"
   ]
  }
 ],
 "metadata": {
  "kernelspec": {
   "display_name": "Python 3.10.6 ('spark_env': venv)",
   "language": "python",
   "name": "python3"
  },
  "language_info": {
   "codemirror_mode": {
    "name": "ipython",
    "version": 3
   },
   "file_extension": ".py",
   "mimetype": "text/x-python",
   "name": "python",
   "nbconvert_exporter": "python",
   "pygments_lexer": "ipython3",
   "version": "3.10.6"
  },
  "orig_nbformat": 4,
  "vscode": {
   "interpreter": {
    "hash": "c1cff7510a9697e4f5c5dbba1501fd973040d5b6b533a37b048e588329fd0068"
   }
  }
 },
 "nbformat": 4,
 "nbformat_minor": 2
}
