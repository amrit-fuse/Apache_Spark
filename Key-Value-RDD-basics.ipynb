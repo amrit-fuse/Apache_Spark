{
 "cells": [
  {
   "cell_type": "markdown",
   "metadata": {},
   "source": [
    "### Import libraries"
   ]
  },
  {
   "cell_type": "code",
   "execution_count": 1,
   "metadata": {},
   "outputs": [],
   "source": [
    "from pyspark import SparkContext\n",
    "import numpy as np"
   ]
  },
  {
   "cell_type": "markdown",
   "metadata": {},
   "source": [
    "### Initialize a `SparkContext` (main abstraction to the cluster) object"
   ]
  },
  {
   "cell_type": "code",
   "execution_count": 2,
   "metadata": {},
   "outputs": [
    {
     "name": "stdout",
     "output_type": "stream",
     "text": [
      "22/10/10 06:48:55 WARN Utils: Your hostname, AMRIT resolves to a loopback address: 127.0.1.1; using 172.27.198.74 instead (on interface eth0)\n",
      "22/10/10 06:48:55 WARN Utils: Set SPARK_LOCAL_IP if you need to bind to another address\n"
     ]
    },
    {
     "name": "stderr",
     "output_type": "stream",
     "text": [
      "Setting default log level to \"WARN\".\n",
      "To adjust logging level use sc.setLogLevel(newLevel). For SparkR, use setLogLevel(newLevel).\n"
     ]
    },
    {
     "name": "stdout",
     "output_type": "stream",
     "text": [
      "22/10/10 06:48:58 WARN NativeCodeLoader: Unable to load native-hadoop library for your platform... using builtin-java classes where applicable\n"
     ]
    }
   ],
   "source": [
    "sc=SparkContext(\"local[4]\")"
   ]
  },
  {
   "cell_type": "markdown",
   "metadata": {},
   "source": [
    "### Create two random lists, zip them up, and initialize a `RDD` with the zipped list"
   ]
  },
  {
   "cell_type": "code",
   "execution_count": 3,
   "metadata": {},
   "outputs": [],
   "source": [
    "a=np.random.randint(1,10,12) # 12 random integers between 1 and 10 (inclusive)\n",
    "b=np.random.randint(1,10,12)"
   ]
  },
  {
   "cell_type": "code",
   "execution_count": 4,
   "metadata": {},
   "outputs": [
    {
     "data": {
      "text/plain": [
       "[(2, 6),\n",
       " (3, 4),\n",
       " (1, 2),\n",
       " (6, 5),\n",
       " (5, 4),\n",
       " (8, 6),\n",
       " (7, 5),\n",
       " (2, 6),\n",
       " (6, 8),\n",
       " (8, 8),\n",
       " (8, 8),\n",
       " (2, 6)]"
      ]
     },
     "execution_count": 4,
     "metadata": {},
     "output_type": "execute_result"
    }
   ],
   "source": [
    "c=list(zip(a,b)) # zip two arrays into a list of tuples (key,value) pairs \n",
    "c"
   ]
  },
  {
   "cell_type": "code",
   "execution_count": 5,
   "metadata": {},
   "outputs": [],
   "source": [
    "kv_rdd=sc.parallelize(c) # create a key-value RDD from the list of tuples"
   ]
  },
  {
   "cell_type": "code",
   "execution_count": 6,
   "metadata": {},
   "outputs": [
    {
     "data": {
      "text/plain": [
       "[(2, 6),\n",
       " (3, 4),\n",
       " (1, 2),\n",
       " (6, 5),\n",
       " (5, 4),\n",
       " (8, 6),\n",
       " (7, 5),\n",
       " (2, 6),\n",
       " (6, 8),\n",
       " (8, 8),\n",
       " (8, 8),\n",
       " (2, 6)]"
      ]
     },
     "execution_count": 6,
     "metadata": {},
     "output_type": "execute_result"
    }
   ],
   "source": [
    "kv_rdd.collect() # collect the RDD to the driver"
   ]
  },
  {
   "cell_type": "markdown",
   "metadata": {},
   "source": [
    "### `Lookup` values corresponding to a key"
   ]
  },
  {
   "cell_type": "code",
   "execution_count": 9,
   "metadata": {},
   "outputs": [
    {
     "data": {
      "text/plain": [
       "[2]"
      ]
     },
     "execution_count": 9,
     "metadata": {},
     "output_type": "execute_result"
    }
   ],
   "source": [
    "kv_rdd.lookup(8) # lookup the value for key 4\n",
    "\n",
    "kv_rdd.lookup(1) # lookup the value for key 1"
   ]
  },
  {
   "cell_type": "code",
   "execution_count": null,
   "metadata": {},
   "outputs": [],
   "source": []
  }
 ],
 "metadata": {
  "kernelspec": {
   "display_name": "Python 3.10.6 ('spark_env': venv)",
   "language": "python",
   "name": "python3"
  },
  "language_info": {
   "codemirror_mode": {
    "name": "ipython",
    "version": 3
   },
   "file_extension": ".py",
   "mimetype": "text/x-python",
   "name": "python",
   "nbconvert_exporter": "python",
   "pygments_lexer": "ipython3",
   "version": "3.10.6"
  },
  "vscode": {
   "interpreter": {
    "hash": "c1cff7510a9697e4f5c5dbba1501fd973040d5b6b533a37b048e588329fd0068"
   }
  }
 },
 "nbformat": 4,
 "nbformat_minor": 2
}
