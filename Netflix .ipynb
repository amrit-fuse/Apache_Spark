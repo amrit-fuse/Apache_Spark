{
 "cells": [
  {
   "cell_type": "markdown",
   "metadata": {},
   "source": [
    "# All installs"
   ]
  },
  {
   "cell_type": "code",
   "execution_count": null,
   "metadata": {},
   "outputs": [],
   "source": []
  },
  {
   "cell_type": "code",
   "execution_count": 1,
   "metadata": {},
   "outputs": [],
   "source": [
    "# !pip freeze > requirements.txt"
   ]
  },
  {
   "cell_type": "markdown",
   "metadata": {},
   "source": [
    "# All imports and setup"
   ]
  },
  {
   "cell_type": "code",
   "execution_count": 2,
   "metadata": {},
   "outputs": [
    {
     "name": "stdout",
     "output_type": "stream",
     "text": [
      "22/10/19 21:12:09 WARN Utils: Your hostname, AMRIT resolves to a loopback address: 127.0.1.1; using 192.168.95.69 instead (on interface eth0)\n",
      "22/10/19 21:12:09 WARN Utils: Set SPARK_LOCAL_IP if you need to bind to another address\n"
     ]
    },
    {
     "name": "stderr",
     "output_type": "stream",
     "text": [
      "Setting default log level to \"WARN\".\n",
      "To adjust logging level use sc.setLogLevel(newLevel). For SparkR, use setLogLevel(newLevel).\n"
     ]
    },
    {
     "name": "stdout",
     "output_type": "stream",
     "text": [
      "22/10/19 21:12:10 WARN NativeCodeLoader: Unable to load native-hadoop library for your platform... using builtin-java classes where applicable\n"
     ]
    }
   ],
   "source": [
    "from pyspark.sql import SparkSession , functions as F\n",
    "\n",
    "spark = SparkSession.builder.appName('Netflix')\\\n",
    "    .config('spark.driver.extraClassPath', '/usr/lib/jvm/java-17-openjdk-amd64/lib/postgresql-42.5.0.jar')\\\n",
    "    .getOrCreate()\n"
   ]
  },
  {
   "cell_type": "code",
   "execution_count": 3,
   "metadata": {},
   "outputs": [
    {
     "name": "stderr",
     "output_type": "stream",
     "text": [
      "                                                                                \r"
     ]
    },
    {
     "name": "stdout",
     "output_type": "stream",
     "text": [
      "+---------------+--------------------+-------------+-----------------+--------------------+-----------------+---------+--------------------+------+------------+-------+-----+-------+\n",
      "|_corrupt_record|                cast|      country|       date_added|         description|         director| duration|           listed_in|rating|release_year|show_id|title|   type|\n",
      "+---------------+--------------------+-------------+-----------------+--------------------+-----------------+---------+--------------------+------+------------+-------+-----+-------+\n",
      "|           null|João Miguel, Bian...|       Brazil|  August 14, 2020|In a future where...|                 |4 Seasons|International TV ...| TV-MA|        2020|     s1|   3%|TV Show|\n",
      "|           null|Demián Bichir, Hé...|       Mexico|December 23, 2016|After a devastati...|Jorge Michel Grau|   93 min|Dramas, Internati...| TV-MA|        2016|     s2| 7:19|  Movie|\n",
      "|           null|Tedd Chan, Stella...|    Singapore|December 20, 2018|When an army recr...|     Gilbert Chan|   78 min|Horror Movies, In...|     R|        2011|     s3|23:59|  Movie|\n",
      "|           null|Elijah Wood, John...|United States|November 16, 2017|In a postapocalyp...|      Shane Acker|   80 min|Action & Adventur...| PG-13|        2009|     s4|    9|  Movie|\n",
      "|           null|Jim Sturgess, Kev...|United States|  January 1, 2020|A brilliant group...|   Robert Luketic|  123 min|              Dramas| PG-13|        2008|     s5|   21|  Movie|\n",
      "+---------------+--------------------+-------------+-----------------+--------------------+-----------------+---------+--------------------+------+------------+-------+-----+-------+\n",
      "only showing top 5 rows\n",
      "\n"
     ]
    }
   ],
   "source": [
    "\n",
    "Netflix_Titles = spark.read.json('Data/netflix_titles.json')    \n",
    "\n",
    "\n",
    "Netflix_Titles.show(5)"
   ]
  },
  {
   "cell_type": "code",
   "execution_count": 4,
   "metadata": {},
   "outputs": [
    {
     "name": "stdout",
     "output_type": "stream",
     "text": [
      "root\n",
      " |-- _corrupt_record: string (nullable = true)\n",
      " |-- cast: string (nullable = true)\n",
      " |-- country: string (nullable = true)\n",
      " |-- date_added: string (nullable = true)\n",
      " |-- description: string (nullable = true)\n",
      " |-- director: string (nullable = true)\n",
      " |-- duration: string (nullable = true)\n",
      " |-- listed_in: string (nullable = true)\n",
      " |-- rating: string (nullable = true)\n",
      " |-- release_year: string (nullable = true)\n",
      " |-- show_id: string (nullable = true)\n",
      " |-- title: string (nullable = true)\n",
      " |-- type: string (nullable = true)\n",
      "\n"
     ]
    }
   ],
   "source": [
    "\n",
    "Netflix_Titles.printSchema()"
   ]
  },
  {
   "cell_type": "markdown",
   "metadata": {},
   "source": [
    "# 1. How many PG-13 titles are there?"
   ]
  },
  {
   "cell_type": "code",
   "execution_count": 5,
   "metadata": {},
   "outputs": [
    {
     "data": {
      "text/plain": [
       "386"
      ]
     },
     "execution_count": 5,
     "metadata": {},
     "output_type": "execute_result"
    }
   ],
   "source": [
    "# rating column  contains Rating for films and one of them is PG-13\n",
    "Netflix_Titles.filter(Netflix_Titles['rating'] == 'PG-13').count() # here filter is transformation and count is action"
   ]
  },
  {
   "cell_type": "markdown",
   "metadata": {},
   "source": [
    "# 2. How many titles an actor or actress appeared in?\n"
   ]
  },
  {
   "cell_type": "code",
   "execution_count": 6,
   "metadata": {},
   "outputs": [
    {
     "name": "stdout",
     "output_type": "stream",
     "text": [
      "+-----------------+-----+\n",
      "|             cast|count|\n",
      "+-----------------+-----+\n",
      "|                 |  716|\n",
      "|      Anupam Kher|   37|\n",
      "| Takahiro Sakurai|   27|\n",
      "|          Om Puri|   27|\n",
      "|   Shah Rukh Khan|   27|\n",
      "+-----------------+-----+\n",
      "only showing top 5 rows\n",
      "\n",
      "+-----------------+-----+\n",
      "|             cast|count|\n",
      "+-----------------+-----+\n",
      "|      Anupam Kher|   37|\n",
      "|          Om Puri|   27|\n",
      "|   Shah Rukh Khan|   27|\n",
      "| Takahiro Sakurai|   27|\n",
      "|      Boman Irani|   25|\n",
      "+-----------------+-----+\n",
      "only showing top 5 rows\n",
      "\n"
     ]
    }
   ],
   "source": [
    "\n",
    "Only_cast= Netflix_Titles.select(Netflix_Titles['cast']).withColumn('cast', F.explode(F.split('cast', ','))) # new data frame after  split items in  cast column and then  expand/explode items in cast columns into rows  \n",
    "\n",
    "cast_count= Only_cast.groupBy('cast').count().orderBy('count', ascending=False) # groupby 'cast' and count the number of times each actor appeared in the data frame\n",
    "\n",
    "cast_count.show(5) # count empty values too \n",
    "\n",
    "cast_count_no_empty= cast_count.filter(cast_count['cast'] != '') #  empty values in cast column are removed \n",
    "\n",
    "cast_count_no_empty.show(5)  # empty values  not counted\n",
    "\n",
    "# # oneliner\n",
    "# Netflix_Titles.select(Netflix_Titles['cast']).withColumn('cast', F.explode(F.split('cast', ','))).groupBy('cast').count().orderBy('count', ascending=False).show(5)  # count empty values too \n",
    "\n",
    "\n",
    " "
   ]
  },
  {
   "cell_type": "markdown",
   "metadata": {},
   "source": [
    "# 3. How many titles has a director has filmed?"
   ]
  },
  {
   "cell_type": "code",
   "execution_count": 7,
   "metadata": {},
   "outputs": [
    {
     "name": "stdout",
     "output_type": "stream",
     "text": [
      "+-------------------+-----+\n",
      "|           director|count|\n",
      "+-------------------+-----+\n",
      "|        Raúl Campos|   18|\n",
      "|          Jan Suter|   18|\n",
      "|       Marcus Raboy|   16|\n",
      "|          Jay Karas|   15|\n",
      "|Cathy Garcia-Molina|   13|\n",
      "+-------------------+-----+\n",
      "only showing top 5 rows\n",
      "\n"
     ]
    }
   ],
   "source": [
    "#since multiple directors are separated by comma, we need to split them and then explode them into rows\n",
    "\n",
    "Only_directors= Netflix_Titles.select(Netflix_Titles['director']).withColumn('director', F.explode(F.split('director', ','))) \n",
    "\n",
    "directors_count= Only_directors.groupBy('director').count().orderBy('count', ascending=False) \n",
    "\n",
    "# directors_count.show(5) \n",
    "\n",
    "directors_count_no_empty= directors_count.filter(directors_count['director'] != '') #  empty values in director column are removed\n",
    "\n",
    "directors_count_no_empty.show(5)  # empty values  not counted\n",
    "\n",
    "\n",
    "\n",
    "# # oneliner\n",
    "# Netflix_Titles.select(Netflix_Titles['director']).withColumn('director', F.explode(F.split('director', ','))).groupBy('director').count().orderBy('count', ascending=False).show(5)  # count empty values too"
   ]
  },
  {
   "cell_type": "code",
   "execution_count": 8,
   "metadata": {},
   "outputs": [],
   "source": [
    "# save result directors_count_no_empty to postgres database with driver\n",
    "\n",
    "directors_count_no_empty.write.format('jdbc').options( url='jdbc:postgresql://127.0.0.1:5432/postgres', driver='org.postgresql.Driver', dbtable='directors_count_no_empty', user='amrit', password='4532').mode('overwrite').save()\n",
    "\n",
    "# # https://jdbc.postgresql.org/documentation/head/connect.html\n",
    "# directors_count_no_empty.write.jdbc(url='jdbc:postgresql://127.0.0.1:5432/postgres', table='directors_count', mode='overwrite', properties={'user': 'amrit', 'password': '4532'}\n"
   ]
  },
  {
   "cell_type": "markdown",
   "metadata": {},
   "source": [
    "# 4. What content is available in different countries?\n"
   ]
  },
  {
   "cell_type": "code",
   "execution_count": 9,
   "metadata": {},
   "outputs": [],
   "source": [
    "# similar to above split and explode  \"listed_in\" column \n"
   ]
  },
  {
   "cell_type": "markdown",
   "metadata": {},
   "source": [
    "# 5. How many movies were released in 2008?\n"
   ]
  },
  {
   "cell_type": "code",
   "execution_count": null,
   "metadata": {},
   "outputs": [],
   "source": []
  },
  {
   "cell_type": "markdown",
   "metadata": {},
   "source": [
    "# 6. List all the movies whose duration is greater than 100 mins ?\n"
   ]
  },
  {
   "cell_type": "code",
   "execution_count": null,
   "metadata": {},
   "outputs": [],
   "source": []
  },
  {
   "cell_type": "markdown",
   "metadata": {},
   "source": [
    "# 7. List movies played by “Kareena Kapoor” ?"
   ]
  },
  {
   "cell_type": "markdown",
   "metadata": {},
   "source": []
  }
 ],
 "metadata": {
  "kernelspec": {
   "display_name": "Python 3.10.6 ('spark_env': venv)",
   "language": "python",
   "name": "python3"
  },
  "language_info": {
   "codemirror_mode": {
    "name": "ipython",
    "version": 3
   },
   "file_extension": ".py",
   "mimetype": "text/x-python",
   "name": "python",
   "nbconvert_exporter": "python",
   "pygments_lexer": "ipython3",
   "version": "3.10.6"
  },
  "orig_nbformat": 4,
  "vscode": {
   "interpreter": {
    "hash": "c1cff7510a9697e4f5c5dbba1501fd973040d5b6b533a37b048e588329fd0068"
   }
  }
 },
 "nbformat": 4,
 "nbformat_minor": 2
}
