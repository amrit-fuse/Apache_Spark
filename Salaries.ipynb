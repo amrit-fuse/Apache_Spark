{
 "cells": [
  {
   "cell_type": "markdown",
   "metadata": {},
   "source": [
    "# All installs"
   ]
  },
  {
   "cell_type": "code",
   "execution_count": null,
   "metadata": {},
   "outputs": [],
   "source": []
  },
  {
   "cell_type": "markdown",
   "metadata": {},
   "source": [
    "# All imports and setup"
   ]
  },
  {
   "cell_type": "code",
   "execution_count": 108,
   "metadata": {},
   "outputs": [],
   "source": [
    "from pyspark.sql import SparkSession , functions as F\n",
    "\n",
    "spark = SparkSession.builder.appName('Salaries')\\\n",
    "    .config('spark.driver.extraClassPath', '/usr/lib/jvm/java-17-openjdk-amd64/lib/postgresql-42.5.0.jar')\\\n",
    "    .getOrCreate()\n"
   ]
  },
  {
   "cell_type": "code",
   "execution_count": 109,
   "metadata": {},
   "outputs": [
    {
     "name": "stdout",
     "output_type": "stream",
     "text": [
      "+-------------+---------+--------+-----------------+---+--------------------+-----+---------+-----------+------+---------+----------------+----+---------------+\n",
      "|       Agency|  BasePay|Benefits|     EmployeeName| Id|            JobTitle|Notes| OtherPay|OvertimePay|Status| TotalPay|TotalPayBenefits|Year|_corrupt_record|\n",
      "+-------------+---------+--------+-----------------+---+--------------------+-----+---------+-----------+------+---------+----------------+----+---------------+\n",
      "|San Francisco|167411.18|        |   NATHANIEL FORD|  1|GENERAL MANAGER-M...|     |400184.25|        0.0|      |567595.43|       567595.43|2011|           null|\n",
      "|San Francisco|155966.02|        |     GARY JIMENEZ|  2|CAPTAIN III (POLI...|     |137811.38|  245131.88|      |538909.28|       538909.28|2011|           null|\n",
      "|San Francisco|212739.13|        |   ALBERT PARDINI|  3|CAPTAIN III (POLI...|     |  16452.6|  106088.18|      |335279.91|       335279.91|2011|           null|\n",
      "|San Francisco|  77916.0|        |CHRISTOPHER CHONG|  4|WIRE ROPE CABLE M...|     | 198306.9|   56120.71|      |332343.61|       332343.61|2011|           null|\n",
      "|San Francisco| 134401.6|        |  PATRICK GARDNER|  5|DEPUTY CHIEF OF D...|     |182234.59|     9737.0|      |326373.19|       326373.19|2011|           null|\n",
      "+-------------+---------+--------+-----------------+---+--------------------+-----+---------+-----------+------+---------+----------------+----+---------------+\n",
      "only showing top 5 rows\n",
      "\n"
     ]
    }
   ],
   "source": [
    "Salaries = spark.read.json('Data/Salaries.json')\n",
    "Salaries.show(5)"
   ]
  },
  {
   "cell_type": "code",
   "execution_count": 110,
   "metadata": {},
   "outputs": [
    {
     "name": "stdout",
     "output_type": "stream",
     "text": [
      "root\n",
      " |-- Agency: string (nullable = true)\n",
      " |-- BasePay: string (nullable = true)\n",
      " |-- Benefits: string (nullable = true)\n",
      " |-- EmployeeName: string (nullable = true)\n",
      " |-- Id: string (nullable = true)\n",
      " |-- JobTitle: string (nullable = true)\n",
      " |-- Notes: string (nullable = true)\n",
      " |-- OtherPay: string (nullable = true)\n",
      " |-- OvertimePay: string (nullable = true)\n",
      " |-- Status: string (nullable = true)\n",
      " |-- TotalPay: string (nullable = true)\n",
      " |-- TotalPayBenefits: string (nullable = true)\n",
      " |-- Year: string (nullable = true)\n",
      " |-- _corrupt_record: string (nullable = true)\n",
      "\n"
     ]
    }
   ],
   "source": [
    "Salaries.printSchema()"
   ]
  },
  {
   "cell_type": "markdown",
   "metadata": {},
   "source": [
    "# 1. Find the average salaries of each job position(assuming salary is the total of all pays)."
   ]
  },
  {
   "cell_type": "code",
   "execution_count": 111,
   "metadata": {},
   "outputs": [
    {
     "name": "stdout",
     "output_type": "stream",
     "text": [
      "+--------------------+----------+\n",
      "|            jobTitle|avg_salary|\n",
      "+--------------------+----------+\n",
      "|       ACCOUNT CLERK|  44035.66|\n",
      "|          ACCOUNTANT|  47429.27|\n",
      "|   ACCOUNTANT INTERN|  29031.74|\n",
      "|ACPO,JuvP, Juv Pr...|  62290.78|\n",
      "|       ACUPUNCTURIST|   67594.4|\n",
      "+--------------------+----------+\n",
      "only showing top 5 rows\n",
      "\n",
      "count: There are 2158 job titles\n"
     ]
    }
   ],
   "source": [
    "\n",
    "Avg_sal_job=Salaries.groupBy('jobTitle').agg(F.round(F.avg('Totalpay'),2).alias('avg_salary')).sort('jobTitle')\n",
    "\n",
    "Avg_sal_job=Avg_sal_job.filter(Avg_sal_job.avg_salary.isNotNull()) # removes null values\n",
    "\n",
    "Avg_sal_job.show(5)\n",
    "\n",
    "print ('count: There are {} job titles'.format(Avg_sal_job.count()))\n",
    "\n",
    "################ CSV ################\n",
    "Avg_sal_job.coalesce(1).write.csv('Output/Salaries/Avg_sal_job',header=True,mode='overwrite')\n",
    "\n",
    "\n",
    "############### Postgres ###############\n",
    "Avg_sal_job.write.format('jdbc').options(url='jdbc:postgresql://localhost:5432/Salaries',driver='org.postgresql.Driver',dbtable='Avg_sal_job',user='amrit',password='1234').mode('overwrite').save()\n"
   ]
  },
  {
   "cell_type": "markdown",
   "metadata": {},
   "source": [
    "# 2. Which job title has the highest full time employees?\n",
    "\n"
   ]
  },
  {
   "cell_type": "code",
   "execution_count": 112,
   "metadata": {},
   "outputs": [
    {
     "name": "stdout",
     "output_type": "stream",
     "text": [
      "+----------------+-----+\n",
      "|        jobTitle|count|\n",
      "+----------------+-----+\n",
      "|Transit Operator| 1524|\n",
      "|     Firefighter|  738|\n",
      "|Police Officer 3|  642|\n",
      "|       Custodian|  565|\n",
      "|  Deputy Sheriff|  552|\n",
      "+----------------+-----+\n",
      "only showing top 5 rows\n",
      "\n",
      "Highest full time employee and count: Row(jobTitle='Transit Operator', count=1524)\n"
     ]
    }
   ],
   "source": [
    "Title_FT_Count=Salaries.filter(Salaries.Status=='FT').groupBy('jobTitle').agg(F.count('jobTitle').alias('count')).sort('count',ascending=False)\n",
    "\n",
    "Title_FT_Count.show(5)\n",
    "\n",
    "print('Highest full time employee and count:',format(Title_FT_Count.first()))\n",
    "\n",
    "\n",
    "############### CSV ################\n",
    "Title_FT_Count.coalesce(1).write.csv('Output/Salaries/Title_FT_Count',header=True,mode='overwrite')\n",
    "\n",
    "############### Postgres ###############\n",
    "Title_FT_Count.write.format('jdbc').options(url='jdbc:postgresql://localhost:5432/Salaries',driver='org.postgresql.Driver',dbtable='Title_FT_Count',user='amrit',password='1234').mode('overwrite').save()\n"
   ]
  },
  {
   "cell_type": "markdown",
   "metadata": {},
   "source": [
    "# 3. List the name of employees who work for the police department?\n"
   ]
  },
  {
   "cell_type": "code",
   "execution_count": 113,
   "metadata": {},
   "outputs": [
    {
     "name": "stdout",
     "output_type": "stream",
     "text": [
      "+---------------+\n",
      "|   EmployeeName|\n",
      "+---------------+\n",
      "|AARON BALLONADO|\n",
      "|   AARON COWHIG|\n",
      "|  AARON FISCHER|\n",
      "|    AARON FOLTZ|\n",
      "|   AARON LOZADA|\n",
      "+---------------+\n",
      "only showing top 5 rows\n",
      "\n",
      "count: There are 2512 employees in police department\n"
     ]
    }
   ],
   "source": [
    "Emp_Police=Salaries.filter(Salaries.JobTitle.contains('POLICE')).select('EmployeeName').sort('EmployeeName')\n",
    "\n",
    "Emp_Police.show(5)\n",
    "\n",
    "print('count: There are {} employees in police department'.format(Emp_Police.count())) \n",
    "\n",
    "############### CSV ################\n",
    "Emp_Police.coalesce(1).write.csv('Output/Salaries/Emp_Police',header=True,mode='overwrite')\n",
    "\n",
    "############### Postgres ###############\n",
    "Emp_Police.write.format('jdbc').options(url='jdbc:postgresql://localhost:5432/Salaries',driver='org.postgresql.Driver',dbtable='Emp_Police',user='amrit',password='1234').mode('overwrite').save()\n"
   ]
  },
  {
   "cell_type": "markdown",
   "metadata": {},
   "source": [
    "# 4. Find the job titles along with the employees name and ids."
   ]
  },
  {
   "cell_type": "code",
   "execution_count": 114,
   "metadata": {},
   "outputs": [
    {
     "name": "stdout",
     "output_type": "stream",
     "text": [
      "+--------------------+--------------------+--------------------+\n",
      "|        EmployeeName|            JobTitle|               Id(s)|\n",
      "+--------------------+--------------------+--------------------+\n",
      "|    a bernard fatooh|sheriff's propert...|29354,102844,6637...|\n",
      "|a elizabeth march...|     principal clerk|               28470|\n",
      "|       a jamil niazi|is engineer - pri...|               12419|\n",
      "|         a k finizio|customer service ...|              140928|\n",
      "|a. james robertso...|superior court judge|  29449,103641,66488|\n",
      "+--------------------+--------------------+--------------------+\n",
      "only showing top 5 rows\n",
      "\n"
     ]
    },
    {
     "name": "stderr",
     "output_type": "stream",
     "text": [
      "                                                                                \r"
     ]
    }
   ],
   "source": [
    "Title_Name_Id=Salaries.select('JobTitle','EmployeeName','Id').sort('Employeename')\n",
    "\n",
    "Title_Name_Id=Title_Name_Id.filter(Title_Name_Id.EmployeeName.isNotNull())\n",
    "\n",
    "Title_Name_Id=Title_Name_Id.withColumn('EmployeeName',F.regexp_replace('EmployeeName','\\s+',' ')) # removes extra spaces in EmployeeName\n",
    "\n",
    "Title_Name_Id_lower=Title_Name_Id.withColumn('JobTitle',F.lower(F.col('JobTitle'))).withColumn('EmployeeName',F.lower(F.col('EmployeeName'))) \n",
    "\n",
    "Title_Name_Ids=Title_Name_Id_lower.groupBy('EmployeeName','JobTitle').agg(F.concat_ws(',',F.collect_list('Id')).alias('Id(s)')).sort('EmployeeName')\n",
    "\n",
    "Title_Name_Ids.show(5)\n",
    "\n",
    "\n",
    "########## CSV ##########\n",
    "Title_Name_Ids.coalesce(1).write.csv('Output/Salaries/Title_Name_Ids',header=True,mode='overwrite')\n",
    "\n",
    "########## Postgres ##########\n",
    "Title_Name_Ids.write.format('jdbc').options(url='jdbc:postgresql://localhost:5432/Salaries',driver='org.postgresql.Driver',dbtable='Title_Name_Ids',user='amrit',password='1234').mode('overwrite').save()\n",
    "\n"
   ]
  },
  {
   "cell_type": "markdown",
   "metadata": {},
   "source": [
    "# 5. Find the number of employees in each job title. "
   ]
  },
  {
   "cell_type": "code",
   "execution_count": 115,
   "metadata": {},
   "outputs": [
    {
     "name": "stdout",
     "output_type": "stream",
     "text": [
      "+--------------------+-----+\n",
      "|            JobTitle|count|\n",
      "+--------------------+-----+\n",
      "|    Transit Operator| 7036|\n",
      "|       Special Nurse| 4389|\n",
      "|    Registered Nurse| 3736|\n",
      "|Public Svc Aide-P...| 2518|\n",
      "|    Police Officer 3| 2421|\n",
      "+--------------------+-----+\n",
      "only showing top 5 rows\n",
      "\n",
      "Highest job title and count: Row(JobTitle='Transit Operator', count=7036)\n"
     ]
    }
   ],
   "source": [
    "Title_Count=Salaries.groupBy('JobTitle').agg(F.count('JobTitle').alias('count')).sort('count',ascending=False)\n",
    "\n",
    "Title_Count.show(5)\n",
    "\n",
    "print('Highest job title and count:',format(Title_Count.first()))\n",
    "\n",
    "########## CSV ##########\n",
    "Title_Count.coalesce(1).write.csv('Output/Salaries/Title_Count',header=True,mode='overwrite')\n",
    "\n",
    "########## Postgres ##########\n",
    "Title_Count.write.format('jdbc').options(url='jdbc:postgresql://localhost:5432/Salaries',driver='org.postgresql.Driver',dbtable='Title_Count',user='amrit',password='1234').mode('overwrite').save()"
   ]
  },
  {
   "cell_type": "markdown",
   "metadata": {},
   "source": [
    "# 6. List out the names and positions of employees whose total pay is greater than 180000."
   ]
  },
  {
   "cell_type": "code",
   "execution_count": 116,
   "metadata": {},
   "outputs": [
    {
     "name": "stdout",
     "output_type": "stream",
     "text": [
      "+----------------+--------------------+---------+\n",
      "|    EmployeeName|            JobTitle| TotalPay|\n",
      "+----------------+--------------------+---------+\n",
      "| Shirley C Banks|  Nurse Practitioner|180003.53|\n",
      "|Eileen McCrystle|     Insp, Fire Dept|180004.84|\n",
      "|     PEI JIAN LI|ELECTRICAL TRANSI...|180016.42|\n",
      "|   Spencer Nakao|         Firefighter|180023.98|\n",
      "|Grace  Fortaleza|    Registered Nurse|180026.97|\n",
      "+----------------+--------------------+---------+\n",
      "only showing top 5 rows\n",
      "\n"
     ]
    }
   ],
   "source": [
    "Name_Pos_180k=Salaries.filter(Salaries.TotalPay>180000).select('EmployeeName','JobTitle','TotalPay').sort('TotalPay')\n",
    "\n",
    "Name_Pos_180k.show(5)\n",
    "\n",
    "########### CSV ###########\n",
    "Name_Pos_180k.coalesce(1).write.csv('Output/Salaries/Name_Pos_180k',header=True,mode='overwrite')\n",
    "\n",
    "########### Postgres ###########\n",
    "Name_Pos_180k.write.format('jdbc').options(url='jdbc:postgresql://localhost:5432/Salaries',driver='org.postgresql.Driver',dbtable='Name_Pos_180k',user='amrit',password='1234').mode('overwrite').save()\n",
    "\n"
   ]
  },
  {
   "cell_type": "markdown",
   "metadata": {},
   "source": [
    "# 7. List the names and ids of employees who have never done overtime.\n"
   ]
  },
  {
   "cell_type": "code",
   "execution_count": 117,
   "metadata": {},
   "outputs": [
    {
     "name": "stdout",
     "output_type": "stream",
     "text": [
      "+--------------------+------+\n",
      "|        EmployeeName|    Id|\n",
      "+--------------------+------+\n",
      "|    A Bernard Fatooh|140526|\n",
      "|         A K Finizio|140928|\n",
      "|Aaliyah Javae'Mer...|146943|\n",
      "|     Aaliyah V Hogue|141683|\n",
      "|    Aaron A Hipolito|145251|\n",
      "+--------------------+------+\n",
      "only showing top 5 rows\n",
      "\n",
      "count: There are 19448 employees who have never done overtime\n"
     ]
    }
   ],
   "source": [
    "Name_Id_No_OT=Salaries.filter(Salaries.OvertimePay=='0.00').select('EmployeeName','Id').sort('EmployeeName')\n",
    "\n",
    "Name_Id_No_OT.show(5)\n",
    "\n",
    "print('count: There are {} employees who have never done overtime'.format(Name_Id_No_OT.count()))\n",
    "\n",
    "########### CSV ###########\n",
    "Name_Id_No_OT.coalesce(1).write.csv('Output/Salaries/Name_Id_No_OT',header=True,mode='overwrite')\n",
    "\n",
    "########### Postgres ###########\n",
    "Name_Id_No_OT.write.format('jdbc').options(url='jdbc:postgresql://localhost:5432/Salaries',driver='org.postgresql.Driver',dbtable='Name_Id_No_OT',user='amrit',password='1234').mode('overwrite').save()\n"
   ]
  },
  {
   "cell_type": "code",
   "execution_count": null,
   "metadata": {},
   "outputs": [],
   "source": []
  }
 ],
 "metadata": {
  "kernelspec": {
   "display_name": "Python 3.10.6 ('spark_env': venv)",
   "language": "python",
   "name": "python3"
  },
  "language_info": {
   "codemirror_mode": {
    "name": "ipython",
    "version": 3
   },
   "file_extension": ".py",
   "mimetype": "text/x-python",
   "name": "python",
   "nbconvert_exporter": "python",
   "pygments_lexer": "ipython3",
   "version": "3.10.6"
  },
  "orig_nbformat": 4,
  "vscode": {
   "interpreter": {
    "hash": "c1cff7510a9697e4f5c5dbba1501fd973040d5b6b533a37b048e588329fd0068"
   }
  }
 },
 "nbformat": 4,
 "nbformat_minor": 2
}
